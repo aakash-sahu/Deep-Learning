{
 "cells": [
  {
   "cell_type": "markdown",
   "metadata": {},
   "source": [
    "# A Convolutional neural network (CNN) for the MNIST dataset using PyTorch\n"
   ]
  },
  {
   "cell_type": "markdown",
   "metadata": {},
   "source": [
    "## Import libraries"
   ]
  },
  {
   "cell_type": "code",
   "execution_count": 1,
   "metadata": {},
   "outputs": [],
   "source": [
    "import torch\n",
    "from torchvision import datasets, transforms\n",
    "\n",
    "from torch import nn, optim\n",
    "import torch.nn.functional as F\n",
    "from torch.utils.data.sampler import SubsetRandomSampler, RandomSampler\n",
    "import torch.utils.data.dataloader as dataloader\n",
    "\n",
    "import matplotlib.pyplot as plt\n",
    "%matplotlib inline\n",
    "\n",
    "import numpy as np\n",
    "from sklearn.model_selection import train_test_split"
   ]
  },
  {
   "cell_type": "markdown",
   "metadata": {},
   "source": [
    "### Check for GPU"
   ]
  },
  {
   "cell_type": "code",
   "execution_count": 2,
   "metadata": {},
   "outputs": [
    {
     "name": "stdout",
     "output_type": "stream",
     "text": [
      "device= cuda\n"
     ]
    }
   ],
   "source": [
    "if torch.cuda.is_available():\n",
    "    device = \"cuda\"\n",
    "    print(\"device=\",device)"
   ]
  },
  {
   "cell_type": "markdown",
   "metadata": {},
   "source": [
    "## Load data and define augmentation"
   ]
  },
  {
   "cell_type": "code",
   "execution_count": 3,
   "metadata": {},
   "outputs": [],
   "source": [
    "transform = transforms.Compose([\n",
    "    #transforms.CenterCrop(244),\n",
    "    #transforms.RandomHorizontalFlip(p = 0.2),\n",
    "    transforms.RandomRotation(20),\n",
    "    transforms.ToTensor()\n",
    "    #transforms.Normalize((0.5,0.5,0.5), (0.5,0.5,0.5))\n",
    "])\n",
    "\n",
    "train_data = datasets.MNIST('data', train=True,transform = transform, download = True)\n",
    "test_data = datasets.MNIST('data', train = False,transform = transform, download = True  )"
   ]
  },
  {
   "cell_type": "code",
   "execution_count": 4,
   "metadata": {},
   "outputs": [
    {
     "data": {
      "text/plain": [
       "(60000, 10000, tensor([5, 0, 4,  ..., 5, 6, 8]))"
      ]
     },
     "execution_count": 4,
     "metadata": {},
     "output_type": "execute_result"
    }
   ],
   "source": [
    "len(train_data), len(test_data), (train_data.train_labels)"
   ]
  },
  {
   "cell_type": "markdown",
   "metadata": {},
   "source": [
    "## Create validation set and data iterator"
   ]
  },
  {
   "cell_type": "code",
   "execution_count": 5,
   "metadata": {},
   "outputs": [
    {
     "name": "stdout",
     "output_type": "stream",
     "text": [
      "48000 12000 60000 12000\n"
     ]
    }
   ],
   "source": [
    "batch_size = 20\n",
    "\n",
    "validation_size = 0.2\n",
    "num_workers = 0\n",
    "train_size = int(len(train_data) *(1- validation_size))\n",
    "val_size = int(len(train_data)*validation_size)\n",
    "#print(train_size, val_size)\n",
    "train_indices = np.arange(len(train_data))\n",
    "np.random.shuffle(train_indices)\n",
    "\n",
    "split = int(np.floor(validation_size * len(train_data)))\n",
    "print(train_size, val_size, len(train_indices), split)\n",
    "train_idx, val_idx = train_indices[split:], train_indices[:split]\n",
    "\n",
    "train_sampler = SubsetRandomSampler(train_idx)\n",
    "val_sampler = SubsetRandomSampler(val_idx)\n",
    "\n",
    "\n",
    "train_loader = torch.utils.data.DataLoader(train_data,batch_size = batch_size, \n",
    "                                           sampler = train_sampler,num_workers = num_workers                                          \n",
    "                                          )\n",
    "\n",
    "val_loader = torch.utils.data.DataLoader(train_data,batch_size = batch_size, \n",
    "                                           sampler = val_sampler,num_workers = num_workers                                          \n",
    "                                          )\n",
    "\n",
    "test_loader = torch.utils.data.DataLoader(test_data,batch_size = batch_size, \n",
    "                                           num_workers = num_workers                                          \n",
    "                                          )"
   ]
  },
  {
   "cell_type": "markdown",
   "metadata": {},
   "source": [
    "## Visualize one set of training data"
   ]
  },
  {
   "cell_type": "code",
   "execution_count": 6,
   "metadata": {},
   "outputs": [],
   "source": [
    "images, label = next(iter(train_loader))\n",
    "images = images.numpy()"
   ]
  },
  {
   "cell_type": "code",
   "execution_count": 7,
   "metadata": {},
   "outputs": [
    {
     "data": {
      "image/png": "[encoded data removed]",
      "text/plain": [
       "<Figure size 1440x288 with 20 Axes>"
      ]
     },
     "metadata": {},
     "output_type": "display_data"
    }
   ],
   "source": [
    "images[0], label[0]\n",
    "\n",
    "#print(images[0].shape, label[0])\n",
    "\n",
    "fig,ax = plt.subplots(2, 10, figsize = (20,4))\n",
    "for i in range(batch_size):\n",
    "#     print(i,int(i/10))\n",
    "    a = ax[int(i/10),i%10]\n",
    "    a.imshow(images[i].squeeze(), cmap = 'gray')\n",
    "    a.set_title(label[i].item())\n",
    "    a.set_xticks([])\n",
    "    a.set_yticks([])\n",
    "#     ax.show()"
   ]
  },
  {
   "cell_type": "code",
   "execution_count": 146,
   "metadata": {},
   "outputs": [
    {
     "data": {
      "text/plain": [
       "(torch.Size([1, 28, 28]), torch.Size([1, 784]))"
      ]
     },
     "execution_count": 146,
     "metadata": {},
     "output_type": "execute_result"
    }
   ],
   "source": [
    "images, label = next(iter(train_loader))\n",
    "images[0].shape, images[0].view(-1,28*28).shape"
   ]
  },
  {
   "cell_type": "markdown",
   "metadata": {},
   "source": [
    "## Define network architecture\n",
    "\n",
    "* 2 convolutional layers with max pooling\n",
    "* 2 fully connected layers\n",
    "* Activation - RelU\n",
    "* Dropout = 30%\n",
    "* Model trained on GPU\n",
    "* Model output - Log Softmax"
   ]
  },
  {
   "cell_type": "code",
   "execution_count": 36,
   "metadata": {},
   "outputs": [
    {
     "data": {
      "text/plain": [
       "Net(\n",
       "  (conv1): Conv2d(1, 8, kernel_size=(3, 3), stride=(1, 1), padding=(1, 1))\n",
       "  (conv2): Conv2d(8, 32, kernel_size=(3, 3), stride=(1, 1), padding=(1, 1))\n",
       "  (pool): MaxPool2d(kernel_size=2, stride=2, padding=0, dilation=1, ceil_mode=False)\n",
       "  (fc1): Linear(in_features=1568, out_features=512, bias=True)\n",
       "  (fc2): Linear(in_features=512, out_features=10, bias=True)\n",
       "  (dropout): Dropout(p=0.3)\n",
       ")"
      ]
     },
     "execution_count": 36,
     "metadata": {},
     "output_type": "execute_result"
    }
   ],
   "source": [
    "in_size = 28*28\n",
    "\n",
    "class Net(nn.Module):\n",
    "    \n",
    "    def __init__(self):\n",
    "        super().__init__()\n",
    "        self.conv1 = nn.Conv2d(in_channels = 1, out_channels = 8, kernel_size = 3, padding = 1)\n",
    "        self.conv2 = nn.Conv2d(in_channels = 8, out_channels = 32, kernel_size = 3, padding = 1)\n",
    "        self.pool = nn.MaxPool2d(kernel_size = 2, stride = 2)\n",
    "        \n",
    "        self.fc1 = nn.Linear(in_features = 32*7*7, out_features = 512)\n",
    "        self.fc2 = nn.Linear(in_features = 512, out_features = 10)\n",
    "        self.dropout = nn.Dropout(p = 0.3)\n",
    "        \n",
    "    def forward(self,x):\n",
    "        x = self.pool(F.relu(self.conv1(x)))\n",
    "        x = self.pool(F.relu(self.conv2(x)))\n",
    "        x = x.view(-1,32*7*7)\n",
    "        x = self.dropout(F.relu(self.fc1(x)))\n",
    "        x = F.log_softmax(self.fc2(x),dim = 1)\n",
    "        return x\n",
    "\n",
    "model = Net()\n",
    "model.cuda()"
   ]
  },
  {
   "cell_type": "markdown",
   "metadata": {},
   "source": [
    "## Defining loss and optimizer\n",
    "\n",
    "\n",
    "* Loss criterion - Negative Log Likelihood Loss\n",
    "* Optimizer - Adam"
   ]
  },
  {
   "cell_type": "code",
   "execution_count": 37,
   "metadata": {},
   "outputs": [],
   "source": [
    "criterion = nn.NLLLoss()\n",
    "optimizer = optim.Adam(model.parameters(), lr = 0.001, weight_decay = 0.0001 )"
   ]
  },
  {
   "cell_type": "markdown",
   "metadata": {},
   "source": [
    "## Training and validation Step\n",
    "* Epochs - 20\n",
    "* Saving model if validation loss goes down"
   ]
  },
  {
   "cell_type": "code",
   "execution_count": 38,
   "metadata": {},
   "outputs": [
    {
     "name": "stdout",
     "output_type": "stream",
     "text": [
      "Epoch 1\t..training loss: 0.24147\t..validation_loss:0.09787\t..val accuracy:96.975%\n",
      "Raw Accuracy: 581.8511962890625\n",
      "validation loss decreased from inf to 0.09787..saving moodel\n",
      "\n",
      "Epoch 2\t..training loss: 0.10569\t..validation_loss:0.09222\t..val accuracy:97.267%\n",
      "Raw Accuracy: 583.6010131835938\n",
      "validation loss decreased from 0.09787 to 0.09222..saving moodel\n",
      "\n",
      "Epoch 3\t..training loss: 0.08505\t..validation_loss:0.07175\t..val accuracy:97.767%\n",
      "Raw Accuracy: 586.6011962890625\n",
      "validation loss decreased from 0.09222 to 0.07175..saving moodel\n",
      "\n",
      "Epoch 4\t..training loss: 0.07270\t..validation_loss:0.06881\t..val accuracy:97.808%\n",
      "Raw Accuracy: 586.8509521484375\n",
      "validation loss decreased from 0.07175 to 0.06881..saving moodel\n",
      "\n",
      "Epoch 5\t..training loss: 0.06526\t..validation_loss:0.05725\t..val accuracy:98.333%\n",
      "Raw Accuracy: 590.0009155273438\n",
      "validation loss decreased from 0.06881 to 0.05725..saving moodel\n",
      "\n",
      "Epoch 6\t..training loss: 0.06353\t..validation_loss:0.06139\t..val accuracy:98.033%\n",
      "Raw Accuracy: 588.2008056640625\n",
      "validation loss increased from 0.05725 to 0.06139\n",
      "\n",
      "Epoch 7\t..training loss: 0.05948\t..validation_loss:0.05232\t..val accuracy:98.308%\n",
      "Raw Accuracy: 589.8509521484375\n",
      "validation loss decreased from 0.05725 to 0.05232..saving moodel\n",
      "\n",
      "Epoch 8\t..training loss: 0.05713\t..validation_loss:0.04966\t..val accuracy:98.508%\n",
      "Raw Accuracy: 591.0506591796875\n",
      "validation loss decreased from 0.05232 to 0.04966..saving moodel\n",
      "\n",
      "Epoch 9\t..training loss: 0.05513\t..validation_loss:0.05253\t..val accuracy:98.200%\n",
      "Raw Accuracy: 589.2008056640625\n",
      "validation loss increased from 0.04966 to 0.05253\n",
      "\n",
      "Epoch 10\t..training loss: 0.05051\t..validation_loss:0.04746\t..val accuracy:98.542%\n",
      "Raw Accuracy: 591.2508544921875\n",
      "validation loss decreased from 0.04966 to 0.04746..saving moodel\n",
      "\n",
      "Wall time: 4min 24s\n"
     ]
    }
   ],
   "source": [
    "%%time\n",
    "epochs = 10\n",
    "\n",
    "running_train_loss = []\n",
    "running_val_loss = []\n",
    "\n",
    "v_loss_min = np.Inf\n",
    "# accuracy = 0\n",
    "\n",
    "for epoch in range(1,epochs+1):\n",
    "    model.train()\n",
    "    t_loss = 0\n",
    "    v_loss = 0\n",
    "    accuracy = 0\n",
    "    \n",
    "    for images, labels in train_loader:\n",
    "        images, labels = images.cuda(), labels.cuda()\n",
    "        \n",
    "        optimizer.zero_grad()\n",
    "        \n",
    "        train_output = model(images)\n",
    "        \n",
    "        train_loss = criterion(train_output, labels)\n",
    "        \n",
    "        train_loss.backward()\n",
    "        \n",
    "        optimizer.step()\n",
    "        \n",
    "        t_loss += train_loss.item()\n",
    "    \n",
    "    with torch.no_grad():\n",
    "        model.eval()\n",
    "        \n",
    "        for images, labels in val_loader:\n",
    "            \n",
    "            images, labels = images.cuda(), labels.cuda()\n",
    "\n",
    "            val_output = model(images)\n",
    "            \n",
    "            val_loss = criterion(val_output, labels)\n",
    "            v_loss += val_loss.item()\n",
    "            \n",
    "            _,pred_classes = torch.max(val_output,dim = 1)\n",
    "            eq = pred_classes == labels #.view(*pred_classes.shape)\n",
    "            accuracy += torch.mean(eq.type(torch.FloatTensor))\n",
    "            \n",
    "    \n",
    "    t_loss = t_loss/(len(train_loader))\n",
    "    v_loss = v_loss/(len(val_loader))\n",
    "    \n",
    "    running_train_loss.append(t_loss)\n",
    "    running_val_loss.append(v_loss)\n",
    "    \n",
    "    \n",
    "    print(\"Epoch {}\\t..training loss: {:.5f}\\t..validation_loss:{:.5f}\\t..val accuracy:{:.3f}%\".format(epoch,\n",
    "                                                                                                  t_loss,\n",
    "                                                                                                  v_loss,\n",
    "                                                                                                 100*(accuracy.item()/len(val_loader))))\n",
    "    \n",
    "    print(\"Raw Accuracy:\", accuracy.item())\n",
    "    if v_loss <= v_loss_min:\n",
    "        print(\"validation loss decreased from {:.5f} to {:.5f}..saving moodel\\n\".format(v_loss_min, v_loss))\n",
    "        torch.save(model.state_dict(),'mnist_cnn_as.pt')\n",
    "        v_loss_min = v_loss\n",
    "    else:\n",
    "        print(\"validation loss increased from {:.5f} to {:.5f}\\n\".format(v_loss_min, v_loss))\n",
    "                 "
   ]
  },
  {
   "cell_type": "markdown",
   "metadata": {},
   "source": [
    "### Checking running train and validation loss"
   ]
  },
  {
   "cell_type": "code",
   "execution_count": 122,
   "metadata": {},
   "outputs": [
    {
     "data": {
      "image/png": "[encoded data removed]",
      "text/plain": [
       "<Figure size 432x288 with 1 Axes>"
      ]
     },
     "metadata": {
      "needs_background": "light"
     },
     "output_type": "display_data"
    }
   ],
   "source": [
    "plt.plot(running_train_loss, label='Training loss')\n",
    "plt.plot(running_val_loss, label='Validation loss')\n",
    "# plt.legend(frameon=False)\n",
    "plt.show()"
   ]
  },
  {
   "cell_type": "markdown",
   "metadata": {},
   "source": [
    "### Load saved model"
   ]
  },
  {
   "cell_type": "code",
   "execution_count": 39,
   "metadata": {},
   "outputs": [],
   "source": [
    "model.load_state_dict(torch.load('mnist_cnn_as.pt'))"
   ]
  },
  {
   "cell_type": "code",
   "execution_count": 123,
   "metadata": {},
   "outputs": [
    {
     "name": "stdout",
     "output_type": "stream",
     "text": [
      "tensor([8, 4, 2, 1, 7, 4, 2, 7, 6, 6, 6, 6, 3, 7, 3, 1, 5, 2, 2, 3],\n",
      "       device='cuda:0') tensor([2, 6, 5, 0, 1, 2, 3, 4, 5, 6, 7, 8, 9, 0, 1, 2, 3, 4, 5, 6],\n",
      "       device='cuda:0') torch.Size([20]) torch.Size([20])\n",
      "tensor([0, 0, 0, 0, 0, 0, 0, 0, 0, 1, 0, 0, 0, 0, 0, 0, 0, 0, 0, 0],\n",
      "       device='cuda:0', dtype=torch.uint8) tensor(0.0500)\n"
     ]
    }
   ],
   "source": [
    "print(pred_classes,labels, pred_classes.shape, labels.shape)\n",
    "e = pred_classes == labels\n",
    "print(e, torch.mean(e.type(torch.FloatTensor)))"
   ]
  },
  {
   "cell_type": "code",
   "execution_count": 43,
   "metadata": {},
   "outputs": [
    {
     "data": {
      "text/plain": [
       "(60000, 2400, 60000, 600, 60000, 20)"
      ]
     },
     "execution_count": 43,
     "metadata": {},
     "output_type": "execute_result"
    }
   ],
   "source": [
    "len(train_data), len(train_loader), len(train_loader.dataset), len(val_loader), len(val_loader.dataset), val_loader.batch_size"
   ]
  },
  {
   "cell_type": "code",
   "execution_count": 125,
   "metadata": {},
   "outputs": [
    {
     "name": "stdout",
     "output_type": "stream",
     "text": [
      "tensor([-1.3682e+01, -9.3901e+00, -1.0742e+01, -1.0839e+01, -7.2895e+00,\n",
      "        -5.3614e+00, -6.2500e+00, -1.2217e+01, -7.4668e-03, -1.3871e+01],\n",
      "       device='cuda:0', grad_fn=<SelectBackward>)\n",
      "torch.Size([20, 10]) tensor([8, 4, 2, 1, 7, 4, 2, 7, 6, 6, 6, 6, 3, 7, 3, 1, 5, 2, 2, 3],\n",
      "       device='cuda:0')\n",
      "tensor([2, 6, 5, 0, 1, 2, 3, 4, 5, 6, 7, 8, 9, 0, 1, 2, 3, 4, 5, 6],\n",
      "       device='cuda:0')\n",
      "torch.Size([20]) torch.Size([20])\n"
     ]
    }
   ],
   "source": [
    "model.eval()\n",
    "o = model(images)\n",
    "print(o[0])\n",
    "o1 = torch.exp(o)\n",
    "a,b = torch.max(o,dim = 1)\n",
    "print(o.shape,b)\n",
    "print(labels)\n",
    "print(b.shape,labels.shape)"
   ]
  },
  {
   "cell_type": "code",
   "execution_count": 48,
   "metadata": {},
   "outputs": [
    {
     "name": "stdout",
     "output_type": "stream",
     "text": [
      "torch.Size([20, 10]) tensor([8, 4, 2, 1, 7, 4, 2, 7, 6, 6, 6, 6, 3, 7, 3, 1, 5, 2, 2, 3],\n",
      "       device='cuda:0')\n",
      "tensor([8, 4, 8, 1, 7, 4, 2, 7, 6, 6, 6, 6, 3, 7, 3, 1, 5, 2, 2, 3],\n",
      "       device='cuda:0')\n",
      "torch.Size([20]) torch.Size([20])\n"
     ]
    }
   ],
   "source": [
    "a,b = torch.max(o,dim = 1)\n",
    "print(o.shape,b)\n",
    "print(labels)\n",
    "print(b.shape,labels.shape)"
   ]
  },
  {
   "cell_type": "code",
   "execution_count": 49,
   "metadata": {},
   "outputs": [
    {
     "data": {
      "text/plain": [
       "(tensor([-1.3682e+01, -9.3901e+00, -1.0742e+01, -1.0839e+01, -7.2895e+00,\n",
       "         -5.3614e+00, -6.2500e+00, -1.2217e+01, -7.4668e-03, -1.3871e+01],\n",
       "        device='cuda:0', grad_fn=<SelectBackward>),\n",
       " tensor([1.1427e-06, 8.3544e-05, 2.1622e-05, 1.9626e-05, 6.8269e-04, 4.6942e-03,\n",
       "         1.9305e-03, 4.9470e-06, 9.9256e-01, 9.4610e-07], device='cuda:0',\n",
       "        grad_fn=<ExpBackward>))"
      ]
     },
     "execution_count": 49,
     "metadata": {},
     "output_type": "execute_result"
    }
   ],
   "source": [
    "model(images)[0], torch.exp(model(images)[0])"
   ]
  },
  {
   "cell_type": "code",
   "execution_count": 126,
   "metadata": {},
   "outputs": [
    {
     "data": {
      "text/plain": [
       "tensor(0.0500)"
      ]
     },
     "execution_count": 126,
     "metadata": {},
     "output_type": "execute_result"
    }
   ],
   "source": [
    "x = b == labels\n",
    "x\n",
    "torch.mean(x.type(torch.FloatTensor))"
   ]
  },
  {
   "cell_type": "markdown",
   "metadata": {},
   "source": [
    "## Check on test set"
   ]
  },
  {
   "cell_type": "code",
   "execution_count": 64,
   "metadata": {},
   "outputs": [
    {
     "name": "stdout",
     "output_type": "stream",
     "text": [
      "Accuracy of class 0: 99.79591836734694%\n",
      "Accuracy of class 1: 99.29515418502203%\n",
      "Accuracy of class 2: 97.86821705426357%\n",
      "Accuracy of class 3: 99.5049504950495%\n",
      "Accuracy of class 4: 99.08350305498982%\n",
      "Accuracy of class 5: 97.86995515695067%\n",
      "Accuracy of class 6: 98.95615866388309%\n",
      "Accuracy of class 7: 98.5408560311284%\n",
      "Accuracy of class 8: 98.35728952772074%\n",
      "Accuracy of class 9: 96.92765113974232%\n",
      "\n",
      "Total Accuracy = 98.63%\n",
      "total correct 9863.0 out of 10000.0\n"
     ]
    }
   ],
   "source": [
    "class_correct = [0. for x in range(10)]\n",
    "class_totals = [0. for x in range(10)]\n",
    "\n",
    "with torch.no_grad():\n",
    "\n",
    "    model.eval()\n",
    "    for data, labels in test_loader:\n",
    "        data, labels = data.cuda(), labels.cuda()\n",
    "        log_ps = model(data)\n",
    "        test_output = torch.exp(log_ps)\n",
    "        _,class_pred = torch.max(test_output, dim = 1)\n",
    "#         class_pred = class_pred.cpu()\n",
    "#         labels = labels.cpu()\n",
    "        labels[i]\n",
    "        \n",
    "        for i in range(batch_size):\n",
    "            #print(class_pred[i])\n",
    "            label = labels[i].item()\n",
    "            if class_pred[i].item() == label:\n",
    "                class_correct[label] += 1\n",
    "            class_totals[label] += 1\n",
    "            #print(label, class_pred[i].item())\n",
    "\n",
    "for i in range(10):\n",
    "    print(\"Accuracy of class {}: {}%\".format(i,100*class_correct[i]/class_totals[i]))\n",
    "\n",
    "total_correct = np.sum(class_correct)\n",
    "total = np.sum(class_totals)\n",
    "print(\"\\nTotal Accuracy = {:.2f}%\".format(100* total_correct/total)) \n",
    "print(\"total correct {} out of {}\".format(total_correct,total))    "
   ]
  },
  {
   "cell_type": "code",
   "execution_count": 101,
   "metadata": {},
   "outputs": [],
   "source": [
    "test,label = next(iter(train_loader))\n",
    "test,label = test.cuda(), label.cuda()"
   ]
  },
  {
   "cell_type": "code",
   "execution_count": 102,
   "metadata": {},
   "outputs": [
    {
     "data": {
      "text/plain": [
       "(torch.Size([20, 1, 28, 28]), torch.Size([1, 28, 28]))"
      ]
     },
     "execution_count": 102,
     "metadata": {},
     "output_type": "execute_result"
    }
   ],
   "source": [
    "test.shape, test[0].shape"
   ]
  },
  {
   "cell_type": "code",
   "execution_count": 103,
   "metadata": {},
   "outputs": [
    {
     "data": {
      "text/plain": [
       "torch.Size([1, 1, 28, 28])"
      ]
     },
     "execution_count": 103,
     "metadata": {},
     "output_type": "execute_result"
    }
   ],
   "source": [
    "test[0].view(1,1,28,28).shape"
   ]
  },
  {
   "cell_type": "code",
   "execution_count": 104,
   "metadata": {},
   "outputs": [
    {
     "data": {
      "text/plain": [
       "tensor([[-1.2707e+01, -4.5347e-04, -1.2792e+01, -1.6130e+01, -1.1767e+01,\n",
       "         -1.3603e+01, -1.0629e+01, -1.0870e+01, -7.8379e+00, -1.4194e+01]],\n",
       "       device='cuda:0', grad_fn=<LogSoftmaxBackward>)"
      ]
     },
     "execution_count": 104,
     "metadata": {},
     "output_type": "execute_result"
    }
   ],
   "source": [
    "model(test[0].view(1,1,28,28))"
   ]
  },
  {
   "cell_type": "markdown",
   "metadata": {},
   "source": [
    "### Checking output on one image"
   ]
  },
  {
   "cell_type": "code",
   "execution_count": 127,
   "metadata": {},
   "outputs": [
    {
     "data": {
      "text/plain": [
       "<matplotlib.image.AxesImage at 0x18a21a18160>"
      ]
     },
     "execution_count": 127,
     "metadata": {},
     "output_type": "execute_result"
    },
    {
     "data": {
      "image/png": "[encoded data removed]",
      "text/plain": [
       "<Figure size 432x288 with 1 Axes>"
      ]
     },
     "metadata": {
      "needs_background": "light"
     },
     "output_type": "display_data"
    }
   ],
   "source": [
    "with torch.no_grad():\n",
    "    test_image = test[0].view(1,1,28,28)\n",
    "    output = torch.exp(model(test_image))\n",
    "_,output_test = torch.max(output,1)\n",
    "output_test, label[0]\n",
    "im = np.squeeze(data[0].cpu().numpy())\n",
    "im.shape\n",
    "plt.imshow(im, cmap = 'gray')"
   ]
  },
  {
   "cell_type": "markdown",
   "metadata": {},
   "source": [
    "### Visualizing output on one batch of test data"
   ]
  },
  {
   "cell_type": "code",
   "execution_count": 117,
   "metadata": {},
   "outputs": [],
   "source": [
    "with torch.no_grad():\n",
    "    output_model = torch.exp(model(data))\n",
    "    _,output_label = torch.max(output_model, 1)\n",
    "output_label = output_label.cpu().numpy()"
   ]
  },
  {
   "cell_type": "code",
   "execution_count": 121,
   "metadata": {},
   "outputs": [
    {
     "data": {
      "image/png": "[encoded data removed]",
      "text/plain": [
       "<Figure size 1440x288 with 20 Axes>"
      ]
     },
     "metadata": {},
     "output_type": "display_data"
    }
   ],
   "source": [
    "#print(images[0].shape, label[0])\n",
    "\n",
    "fig,ax = plt.subplots(2, 10, figsize = (20,4))\n",
    "for i in range(batch_size):\n",
    "#     print(i,int(i/10))\n",
    "    a = ax[int(i/10),i%10]\n",
    "    a.imshow(data[i].cpu().squeeze(), cmap = 'gray')\n",
    "    a.set_title(labels[i].cpu().item(), loc = 'left', color = 'red')\n",
    "    a.set_title(output_label[i], loc = 'right', color = 'green')\n",
    "    a.set_xticks([])\n",
    "    a.set_yticks([])"
   ]
  },
  {
   "cell_type": "markdown",
   "metadata": {},
   "source": [
    "## End"
   ]
  }
 ],
 "metadata": {
  "kernelspec": {
   "display_name": "Python 3",
   "language": "python",
   "name": "python3"
  },
  "language_info": {
   "codemirror_mode": {
    "name": "ipython",
    "version": 3
   },
   "file_extension": ".py",
   "mimetype": "text/x-python",
   "name": "python",
   "nbconvert_exporter": "python",
   "pygments_lexer": "ipython3",
   "version": "3.7.1"
  }
 },
 "nbformat": 4,
 "nbformat_minor": 2
}

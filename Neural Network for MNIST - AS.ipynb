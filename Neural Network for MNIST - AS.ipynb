{
 "cells": [
  {
   "cell_type": "markdown",
   "metadata": {},
   "source": [
    "# Fully connected neural network for the MNIST dataset using PyTorch"
   ]
  },
  {
   "cell_type": "markdown",
   "metadata": {},
   "source": [
    "## Import libraries"
   ]
  },
  {
   "cell_type": "code",
   "execution_count": 355,
   "metadata": {},
   "outputs": [],
   "source": [
    "import torch\n",
    "from torchvision import datasets, transforms\n",
    "\n",
    "from torch import nn, optim\n",
    "import torch.nn.functional as F\n",
    "from torch.utils.data.sampler import SubsetRandomSampler, RandomSampler\n",
    "import torch.utils.data.dataloader as dataloader\n",
    "\n",
    "import matplotlib.pyplot as plt\n",
    "%matplotlib inline\n",
    "\n",
    "import numpy as np\n",
    "from sklearn.model_selection import train_test_split"
   ]
  },
  {
   "cell_type": "markdown",
   "metadata": {},
   "source": [
    "#### Check for CUDA"
   ]
  },
  {
   "cell_type": "code",
   "execution_count": 356,
   "metadata": {},
   "outputs": [
    {
     "name": "stdout",
     "output_type": "stream",
     "text": [
      "device= cuda\n"
     ]
    }
   ],
   "source": [
    "if torch.cuda.is_available():\n",
    "    device = \"cuda\"\n",
    "    print(\"device=\",device)"
   ]
  },
  {
   "cell_type": "markdown",
   "metadata": {},
   "source": [
    "### Load data and define augmentation"
   ]
  },
  {
   "cell_type": "code",
   "execution_count": 357,
   "metadata": {},
   "outputs": [],
   "source": [
    "transform = transforms.Compose([\n",
    "    #transforms.CenterCrop(244),\n",
    "    #transforms.RandomHorizontalFlip(p = 0.2),\n",
    "    transforms.RandomRotation(20),\n",
    "    transforms.ToTensor()\n",
    "    #transforms.Normalize((0.5,0.5,0.5), (0.5,0.5,0.5))\n",
    "])\n",
    "\n",
    "train_data = datasets.MNIST('data', train=True,transform = transform, download = True)\n",
    "test_data = datasets.MNIST('data', train = False,transform = transform, download = True  )"
   ]
  },
  {
   "cell_type": "code",
   "execution_count": 358,
   "metadata": {},
   "outputs": [
    {
     "data": {
      "text/plain": [
       "(60000, 10000, tensor([5, 0, 4,  ..., 5, 6, 8]))"
      ]
     },
     "execution_count": 358,
     "metadata": {},
     "output_type": "execute_result"
    }
   ],
   "source": [
    "len(train_data), len(test_data), (train_data.train_labels)"
   ]
  },
  {
   "cell_type": "markdown",
   "metadata": {},
   "source": [
    "## Create validation set and data iterator"
   ]
  },
  {
   "cell_type": "code",
   "execution_count": 359,
   "metadata": {},
   "outputs": [
    {
     "name": "stdout",
     "output_type": "stream",
     "text": [
      "48000 12000 60000 12000\n"
     ]
    }
   ],
   "source": [
    "batch_size = 20\n",
    "\n",
    "validation_size = 0.2\n",
    "num_workers = 0\n",
    "train_size = int(len(train_data) *(1- validation_size))\n",
    "val_size = int(len(train_data)*validation_size)\n",
    "#print(train_size, val_size)\n",
    "train_indices = np.arange(len(train_data))\n",
    "np.random.shuffle(train_indices)\n",
    "\n",
    "split = int(np.floor(validation_size * len(train_data)))\n",
    "print(train_size, val_size, len(train_indices), split)\n",
    "train_idx, val_idx = train_indices[split:], train_indices[:split]\n",
    "\n",
    "train_sampler = SubsetRandomSampler(train_idx)\n",
    "val_sampler = SubsetRandomSampler(val_idx)\n",
    "\n",
    "\n",
    "train_loader = torch.utils.data.DataLoader(train_data,batch_size = batch_size, \n",
    "                                           sampler = train_sampler,num_workers = num_workers                                          \n",
    "                                          )\n",
    "\n",
    "val_loader = torch.utils.data.DataLoader(train_data,batch_size = batch_size, \n",
    "                                           sampler = val_sampler,num_workers = num_workers                                          \n",
    "                                          )\n",
    "\n",
    "test_loader = torch.utils.data.DataLoader(test_data,batch_size = batch_size, \n",
    "                                           num_workers = num_workers                                          \n",
    "                                          )"
   ]
  },
  {
   "cell_type": "markdown",
   "metadata": {},
   "source": [
    "## Visualize one set of training data"
   ]
  },
  {
   "cell_type": "code",
   "execution_count": 360,
   "metadata": {},
   "outputs": [
    {
     "data": {
      "image/png": "[encoded data removed]",
      "text/plain": [
       "<Figure size 1440x288 with 20 Axes>"
      ]
     },
     "metadata": {},
     "output_type": "display_data"
    }
   ],
   "source": [
    "images, label = next(iter(train_loader))\n",
    "images = images.numpy()\n",
    "images[0], label[0]\n",
    "\n",
    "#print(images[0].shape, label[0])\n",
    "\n",
    "fig,ax = plt.subplots(2, 10, figsize = (20,4))\n",
    "for i in range(batch_size):\n",
    "#     print(i,int(i/10))\n",
    "    a = ax[int(i/10),i%10]\n",
    "    a.imshow(images[i].squeeze(), cmap = 'gray')\n",
    "    a.set_title(label[i].item())\n",
    "    a.set_xticks([])\n",
    "    a.set_yticks([])\n",
    "#     ax.show()"
   ]
  },
  {
   "cell_type": "code",
   "execution_count": 368,
   "metadata": {},
   "outputs": [
    {
     "data": {
      "text/plain": [
       "(1, 28, 28)"
      ]
     },
     "execution_count": 368,
     "metadata": {},
     "output_type": "execute_result"
    }
   ],
   "source": [
    "images[0].shape"
   ]
  },
  {
   "cell_type": "markdown",
   "metadata": {},
   "source": [
    "## Define network architecture\n",
    "\n",
    "* 4 fully connected layers\n",
    "* Activation - RelU\n",
    "* Dropout = 30%\n",
    "* Model trained on GPU\n",
    "* Model output - Log Softmax"
   ]
  },
  {
   "cell_type": "code",
   "execution_count": 371,
   "metadata": {},
   "outputs": [
    {
     "data": {
      "text/plain": [
       "Net(\n",
       "  (fc1): Linear(in_features=784, out_features=512, bias=True)\n",
       "  (fc2): Linear(in_features=512, out_features=256, bias=True)\n",
       "  (fc3): Linear(in_features=256, out_features=64, bias=True)\n",
       "  (fc4): Linear(in_features=64, out_features=10, bias=True)\n",
       "  (dropout): Dropout(p=0.3)\n",
       ")"
      ]
     },
     "execution_count": 371,
     "metadata": {},
     "output_type": "execute_result"
    }
   ],
   "source": [
    "in_size = 28*28\n",
    "\n",
    "class Net(nn.Module):\n",
    "    \n",
    "    def __init__(self):\n",
    "        super().__init__()\n",
    "        self.fc1 = nn.Linear(in_features = in_size, out_features = 512)\n",
    "        self.fc2 = nn.Linear(in_features = 512, out_features = 256)\n",
    "        self.fc3 = nn.Linear(in_features = 256, out_features = 64)\n",
    "        self.fc4 = nn.Linear(in_features = 64, out_features = 10)\n",
    "        self.dropout = nn.Dropout(p = 0.3)\n",
    "        \n",
    "    def forward(self,x):\n",
    "        x = x.view(-1,in_size)\n",
    "        x = self.dropout(F.relu(self.fc1(x)))\n",
    "        x = self.dropout(F.relu(self.fc2(x)))\n",
    "        x = self.dropout(F.relu(self.fc3(x)))\n",
    "        x = F.log_softmax(self.fc4(x),dim = 1)\n",
    "        return x\n",
    "\n",
    "model = Net()\n",
    "model.cuda()"
   ]
  },
  {
   "cell_type": "markdown",
   "metadata": {},
   "source": [
    "## Defining loss and optimizer\n",
    "\n",
    "* Loss criterion - Negative Log Likelihood Loss\n",
    "* Optimizer - Adam"
   ]
  },
  {
   "cell_type": "code",
   "execution_count": 372,
   "metadata": {},
   "outputs": [],
   "source": [
    "criterion = nn.NLLLoss()\n",
    "optimizer = optim.Adam(model.parameters(), lr = 0.001, weight_decay = 0.0001 )"
   ]
  },
  {
   "cell_type": "markdown",
   "metadata": {},
   "source": [
    "## Training and validation Step\n",
    "* Epochs - 30\n",
    "* Saving model if validation loss goes down"
   ]
  },
  {
   "cell_type": "code",
   "execution_count": 373,
   "metadata": {},
   "outputs": [
    {
     "name": "stdout",
     "output_type": "stream",
     "text": [
      "Epoch 1\t..training loss: 0.42337\t..validation_loss:0.19910\t..val accuracy:94.050%\n",
      "Raw Accuracy: 564.3009033203125\n",
      "validation loss decreased from inf to 0.19910..saving moodel\n",
      "\n",
      "Epoch 2\t..training loss: 0.22985\t..validation_loss:0.14059\t..val accuracy:95.725%\n",
      "Raw Accuracy: 574.351318359375\n",
      "validation loss decreased from 0.19910 to 0.14059..saving moodel\n",
      "\n",
      "Epoch 3\t..training loss: 0.19243\t..validation_loss:0.12452\t..val accuracy:96.342%\n",
      "Raw Accuracy: 578.0512084960938\n",
      "validation loss decreased from 0.14059 to 0.12452..saving moodel\n",
      "\n",
      "Epoch 4\t..training loss: 0.17704\t..validation_loss:0.12984\t..val accuracy:95.975%\n",
      "Raw Accuracy: 575.8514404296875\n",
      "validation loss increased from 0.12452 to 0.12984\n",
      "\n",
      "Epoch 5\t..training loss: 0.16904\t..validation_loss:0.11043\t..val accuracy:96.650%\n",
      "Raw Accuracy: 579.9010009765625\n",
      "validation loss decreased from 0.12452 to 0.11043..saving moodel\n",
      "\n",
      "Epoch 6\t..training loss: 0.16150\t..validation_loss:0.10743\t..val accuracy:96.609%\n",
      "Raw Accuracy: 579.6513671875\n",
      "validation loss decreased from 0.11043 to 0.10743..saving moodel\n",
      "\n",
      "Epoch 7\t..training loss: 0.15882\t..validation_loss:0.10562\t..val accuracy:96.859%\n",
      "Raw Accuracy: 581.1511840820312\n",
      "validation loss decreased from 0.10743 to 0.10562..saving moodel\n",
      "\n",
      "Epoch 8\t..training loss: 0.15499\t..validation_loss:0.11005\t..val accuracy:96.600%\n",
      "Raw Accuracy: 579.6012573242188\n",
      "validation loss increased from 0.10562 to 0.11005\n",
      "\n",
      "Epoch 9\t..training loss: 0.14696\t..validation_loss:0.10424\t..val accuracy:96.959%\n",
      "Raw Accuracy: 581.7510375976562\n",
      "validation loss decreased from 0.10562 to 0.10424..saving moodel\n",
      "\n",
      "Epoch 10\t..training loss: 0.14562\t..validation_loss:0.09092\t..val accuracy:97.175%\n",
      "Raw Accuracy: 583.051025390625\n",
      "validation loss decreased from 0.10424 to 0.09092..saving moodel\n",
      "\n",
      "Epoch 11\t..training loss: 0.14167\t..validation_loss:0.10246\t..val accuracy:96.909%\n",
      "Raw Accuracy: 581.4513549804688\n",
      "validation loss increased from 0.09092 to 0.10246\n",
      "\n",
      "Epoch 12\t..training loss: 0.14215\t..validation_loss:0.09817\t..val accuracy:96.917%\n",
      "Raw Accuracy: 581.501220703125\n",
      "validation loss increased from 0.09092 to 0.09817\n",
      "\n",
      "Epoch 13\t..training loss: 0.13794\t..validation_loss:0.09552\t..val accuracy:97.092%\n",
      "Raw Accuracy: 582.5511474609375\n",
      "validation loss increased from 0.09092 to 0.09552\n",
      "\n",
      "Epoch 14\t..training loss: 0.14007\t..validation_loss:0.09175\t..val accuracy:97.225%\n",
      "Raw Accuracy: 583.3511962890625\n",
      "validation loss increased from 0.09092 to 0.09175\n",
      "\n",
      "Epoch 15\t..training loss: 0.14336\t..validation_loss:0.08825\t..val accuracy:97.242%\n",
      "Raw Accuracy: 583.4508666992188\n",
      "validation loss decreased from 0.09092 to 0.08825..saving moodel\n",
      "\n",
      "Epoch 16\t..training loss: 0.13706\t..validation_loss:0.09435\t..val accuracy:97.234%\n",
      "Raw Accuracy: 583.4011840820312\n",
      "validation loss increased from 0.08825 to 0.09435\n",
      "\n",
      "Epoch 17\t..training loss: 0.13908\t..validation_loss:0.10093\t..val accuracy:96.900%\n",
      "Raw Accuracy: 581.4011840820312\n",
      "validation loss increased from 0.08825 to 0.10093\n",
      "\n",
      "Epoch 18\t..training loss: 0.13737\t..validation_loss:0.09642\t..val accuracy:97.092%\n",
      "Raw Accuracy: 582.5513305664062\n",
      "validation loss increased from 0.08825 to 0.09642\n",
      "\n",
      "Epoch 19\t..training loss: 0.13418\t..validation_loss:0.09903\t..val accuracy:97.067%\n",
      "Raw Accuracy: 582.4012451171875\n",
      "validation loss increased from 0.08825 to 0.09903\n",
      "\n",
      "Epoch 20\t..training loss: 0.13607\t..validation_loss:0.10274\t..val accuracy:97.084%\n",
      "Raw Accuracy: 582.5011596679688\n",
      "validation loss increased from 0.08825 to 0.10274\n",
      "\n",
      "Epoch 21\t..training loss: 0.13068\t..validation_loss:0.10385\t..val accuracy:96.975%\n",
      "Raw Accuracy: 581.8511962890625\n",
      "validation loss increased from 0.08825 to 0.10385\n",
      "\n",
      "Epoch 22\t..training loss: 0.13550\t..validation_loss:0.09332\t..val accuracy:97.175%\n",
      "Raw Accuracy: 583.051025390625\n",
      "validation loss increased from 0.08825 to 0.09332\n",
      "\n",
      "Epoch 23\t..training loss: 0.13576\t..validation_loss:0.09926\t..val accuracy:97.217%\n",
      "Raw Accuracy: 583.3013305664062\n",
      "validation loss increased from 0.08825 to 0.09926\n",
      "\n",
      "Epoch 24\t..training loss: 0.13501\t..validation_loss:0.09800\t..val accuracy:97.200%\n",
      "Raw Accuracy: 583.2011108398438\n",
      "validation loss increased from 0.08825 to 0.09800\n",
      "\n",
      "Epoch 25\t..training loss: 0.13541\t..validation_loss:0.09350\t..val accuracy:97.267%\n",
      "Raw Accuracy: 583.60107421875\n",
      "validation loss increased from 0.08825 to 0.09350\n",
      "\n",
      "Epoch 26\t..training loss: 0.13095\t..validation_loss:0.09335\t..val accuracy:97.159%\n",
      "Raw Accuracy: 582.9512329101562\n",
      "validation loss increased from 0.08825 to 0.09335\n",
      "\n",
      "Epoch 27\t..training loss: 0.13126\t..validation_loss:0.09046\t..val accuracy:97.284%\n",
      "Raw Accuracy: 583.7010498046875\n",
      "validation loss increased from 0.08825 to 0.09046\n",
      "\n",
      "Epoch 28\t..training loss: 0.13058\t..validation_loss:0.11969\t..val accuracy:96.800%\n",
      "Raw Accuracy: 580.8012084960938\n",
      "validation loss increased from 0.08825 to 0.11969\n",
      "\n",
      "Epoch 29\t..training loss: 0.13366\t..validation_loss:0.08909\t..val accuracy:97.325%\n",
      "Raw Accuracy: 583.9512939453125\n",
      "validation loss increased from 0.08825 to 0.08909\n",
      "\n",
      "Epoch 30\t..training loss: 0.13196\t..validation_loss:0.09426\t..val accuracy:97.250%\n",
      "Raw Accuracy: 583.5010986328125\n",
      "validation loss increased from 0.08825 to 0.09426\n",
      "\n",
      "Wall time: 13min 20s\n"
     ]
    }
   ],
   "source": [
    "%%time\n",
    "epochs = 30\n",
    "\n",
    "running_train_loss = []\n",
    "running_val_loss = []\n",
    "\n",
    "v_loss_min = np.Inf\n",
    "# accuracy = 0\n",
    "\n",
    "for epoch in range(1,epochs+1):\n",
    "    model.train()\n",
    "    t_loss = 0\n",
    "    v_loss = 0\n",
    "    accuracy = 0\n",
    "    \n",
    "    for images, labels in train_loader:\n",
    "        images, labels = images.cuda(), labels.cuda()\n",
    "        \n",
    "        optimizer.zero_grad()\n",
    "        \n",
    "        train_output = model(images)\n",
    "        \n",
    "        train_loss = criterion(train_output, labels)\n",
    "        \n",
    "        train_loss.backward()\n",
    "        \n",
    "        optimizer.step()\n",
    "        \n",
    "        t_loss += train_loss.item()\n",
    "    \n",
    "    with torch.no_grad():\n",
    "        model.eval()\n",
    "        \n",
    "        for images, labels in val_loader:\n",
    "            \n",
    "            images, labels = images.cuda(), labels.cuda()\n",
    "\n",
    "            val_output = model(images)\n",
    "            \n",
    "            val_loss = criterion(val_output, labels)\n",
    "            v_loss += val_loss.item()\n",
    "            \n",
    "            _,pred_classes = torch.max(val_output,dim = 1)\n",
    "            eq = pred_classes == labels #.view(*pred_classes.shape)\n",
    "            accuracy += torch.mean(eq.type(torch.FloatTensor))\n",
    "            \n",
    "    \n",
    "    t_loss = t_loss/(len(train_loader))\n",
    "    v_loss = v_loss/(len(val_loader))\n",
    "    \n",
    "    running_train_loss.append(t_loss)\n",
    "    running_val_loss.append(v_loss)\n",
    "    \n",
    "    \n",
    "    print(\"Epoch {}\\t..training loss: {:.5f}\\t..validation_loss:{:.5f}\\t..val accuracy:{:.3f}%\".format(epoch,\n",
    "                                                                                                  t_loss,\n",
    "                                                                                                  v_loss,\n",
    "                                                                                                 100*(accuracy.item()/len(val_loader))))\n",
    "    \n",
    "   # print(\"Raw Accuracy:\", accuracy.item())\n",
    "    if v_loss <= v_loss_min:\n",
    "        print(\"validation loss decreased from {:.5f} to {:.5f}..saving moodel\\n\".format(v_loss_min, v_loss))\n",
    "        torch.save(model.state_dict(),'mnist_nn_as.pt')\n",
    "        v_loss_min = v_loss\n",
    "    else:\n",
    "        print(\"validation loss increased from {:.5f} to {:.5f}\\n\".format(v_loss_min, v_loss))\n",
    "                 "
   ]
  },
  {
   "cell_type": "markdown",
   "metadata": {},
   "source": [
    "#### Checking output"
   ]
  },
  {
   "cell_type": "code",
   "execution_count": 380,
   "metadata": {},
   "outputs": [
    {
     "data": {
      "image/png": "[encoded data removed]",
      "text/plain": [
       "<Figure size 432x288 with 1 Axes>"
      ]
     },
     "metadata": {
      "needs_background": "light"
     },
     "output_type": "display_data"
    }
   ],
   "source": [
    "plt.plot(running_train_loss, label='Training loss')\n",
    "plt.plot(running_val_loss, label='Validation loss')\n",
    "plt.legend(frameon=False)\n",
    "plt.show()"
   ]
  },
  {
   "cell_type": "code",
   "execution_count": 376,
   "metadata": {},
   "outputs": [
    {
     "name": "stdout",
     "output_type": "stream",
     "text": [
      "tensor([6, 6, 6, 8, 7, 9, 5, 8, 9, 2, 4, 8, 8, 1, 0, 8, 4, 0, 9, 6],\n",
      "       device='cuda:0') torch.Size([20]) torch.Size([20])\n",
      "tensor([1, 1, 1, 1, 1, 1, 1, 1, 0, 1, 1, 1, 0, 1, 1, 1, 1, 1, 1, 1],\n",
      "       device='cuda:0', dtype=torch.uint8) tensor(0.9000)\n",
      "60000 2400 60000 600 60000 20\n",
      "48000 12000\n"
     ]
    }
   ],
   "source": [
    "print(pred_classes, pred_classes.shape, labels.shape)\n",
    "e = pred_classes == labels\n",
    "print(e, torch.mean(e.type(torch.FloatTensor)))\n",
    "print(len(train_data), len(train_loader), len(train_loader.dataset), len(val_loader), len(val_loader.dataset), val_loader.batch_size)\n",
    "print(len(train_loader)*batch_size, len(val_loader)*batch_size)"
   ]
  },
  {
   "cell_type": "code",
   "execution_count": 377,
   "metadata": {},
   "outputs": [
    {
     "data": {
      "text/plain": [
       "tensor([-1.6701e+01, -2.5742e+01, -1.9578e+01, -2.4313e+01, -1.5131e+01,\n",
       "        -1.0394e+01, -3.1471e-05, -2.6002e+01, -1.4223e+01, -2.2070e+01],\n",
       "       device='cuda:0', grad_fn=<SelectBackward>)"
      ]
     },
     "execution_count": 377,
     "metadata": {},
     "output_type": "execute_result"
    }
   ],
   "source": [
    "model.eval()\n",
    "o = model(images)\n",
    "o[0]\n",
    "o1 = torch.exp(o)\n",
    "a,b = torch.max(o,dim = 1)\n",
    "print(o.shape,b)\n",
    "print(labels)\n",
    "print(b.shape,labels.shape)"
   ]
  },
  {
   "cell_type": "code",
   "execution_count": 279,
   "metadata": {},
   "outputs": [
    {
     "data": {
      "text/plain": [
       "(tensor([-2.3537, -2.2997, -2.3043, -2.2335, -2.3796, -2.4189, -2.3206, -2.2381,\n",
       "         -2.2083, -2.2894], device='cuda:0', grad_fn=<SelectBackward>),\n",
       " tensor([0.0950, 0.1003, 0.0998, 0.1072, 0.0926, 0.0890, 0.0982, 0.1067, 0.1099,\n",
       "         0.1013], device='cuda:0', grad_fn=<ExpBackward>))"
      ]
     },
     "execution_count": 279,
     "metadata": {},
     "output_type": "execute_result"
    }
   ],
   "source": [
    "model(images)[0], torch.exp(model(images)[0])"
   ]
  },
  {
   "cell_type": "code",
   "execution_count": 381,
   "metadata": {},
   "outputs": [
    {
     "name": "stdout",
     "output_type": "stream",
     "text": [
      "tensor([1, 1, 1, 1, 1, 1, 1, 1, 0, 1, 1, 1, 0, 1, 1, 1, 1, 1, 1, 1],\n",
      "       device='cuda:0', dtype=torch.uint8)\n"
     ]
    },
    {
     "data": {
      "text/plain": [
       "tensor(0.9000)"
      ]
     },
     "execution_count": 381,
     "metadata": {},
     "output_type": "execute_result"
    }
   ],
   "source": [
    "x = b == labels\n",
    "print(x)\n",
    "torch.mean(x.type(torch.FloatTensor))"
   ]
  },
  {
   "cell_type": "markdown",
   "metadata": {},
   "source": [
    "## Check on test set"
   ]
  },
  {
   "cell_type": "code",
   "execution_count": 382,
   "metadata": {},
   "outputs": [
    {
     "name": "stdout",
     "output_type": "stream",
     "text": [
      "Accuracy of class 0: 99.38775510204081%\n",
      "Accuracy of class 1: 99.20704845814979%\n",
      "Accuracy of class 2: 97.57751937984496%\n",
      "Accuracy of class 3: 97.42574257425743%\n",
      "Accuracy of class 4: 97.25050916496944%\n",
      "Accuracy of class 5: 94.84304932735427%\n",
      "Accuracy of class 6: 98.32985386221294%\n",
      "Accuracy of class 7: 97.27626459143968%\n",
      "Accuracy of class 8: 97.63860369609856%\n",
      "Accuracy of class 9: 96.72943508424183%\n",
      "\n",
      "Total Accuracy = 97.61%\n",
      "total correct 9761.0 out of 10000.0\n"
     ]
    }
   ],
   "source": [
    "class_correct = [0. for x in range(10)]\n",
    "class_totals = [0. for x in range(10)]\n",
    "c = 0\n",
    "with torch.no_grad():\n",
    "    c += 1\n",
    "    model.eval()\n",
    "    for data, labels in test_loader:\n",
    "        data, labels = data.cuda(), labels.cuda()\n",
    "        log_ps = model(data)\n",
    "        test_output = torch.exp(log_ps)\n",
    "        _,class_pred = torch.max(test_output, dim = 1)\n",
    "#         class_pred = class_pred.cpu()\n",
    "#         labels = labels.cpu()\n",
    "        labels[i]\n",
    "\n",
    "        if c > 2:\n",
    "            break\n",
    "        \n",
    "        for i in range(batch_size):\n",
    "            #print(class_pred[i])\n",
    "            label = labels[i].item()\n",
    "            if class_pred[i].item() == label:\n",
    "                class_correct[label] += 1\n",
    "            class_totals[label] += 1\n",
    "            #print(label, class_pred[i].item())\n",
    "\n",
    "for i in range(10):\n",
    "    print(\"Accuracy of class {}: {}%\".format(i,100*class_correct[i]/class_totals[i]))\n",
    "\n",
    "total_correct = np.sum(class_correct)\n",
    "total = np.sum(class_totals)\n",
    "print(\"\\nTotal Accuracy = {:.2f}%\".format(100* total_correct/total)) \n",
    "print(\"total correct {} out of {}\".format(total_correct,total))    "
   ]
  },
  {
   "cell_type": "markdown",
   "metadata": {},
   "source": [
    "### Checking output on one image"
   ]
  },
  {
   "cell_type": "code",
   "execution_count": 383,
   "metadata": {},
   "outputs": [
    {
     "name": "stdout",
     "output_type": "stream",
     "text": [
      "(28, 28)\n"
     ]
    },
    {
     "data": {
      "text/plain": [
       "<matplotlib.image.AxesImage at 0x206c9c84eb8>"
      ]
     },
     "execution_count": 383,
     "metadata": {},
     "output_type": "execute_result"
    },
    {
     "data": {
      "image/png": "[encoded data removed]",
      "text/plain": [
       "<Figure size 432x288 with 1 Axes>"
      ]
     },
     "metadata": {
      "needs_background": "light"
     },
     "output_type": "display_data"
    }
   ],
   "source": [
    "with torch.no_grad():\n",
    "    output = torch.exp(model(data[0]))\n",
    "_,output_label = torch.max(output,1)\n",
    "im = np.squeeze(data[0].cpu().numpy())\n",
    "print(im.shape)\n",
    "plt.imshow(im, cmap = 'gray')"
   ]
  },
  {
   "cell_type": "markdown",
   "metadata": {},
   "source": [
    "### Visualizing output on one batch of test data"
   ]
  },
  {
   "cell_type": "code",
   "execution_count": 384,
   "metadata": {},
   "outputs": [
    {
     "data": {
      "image/png": "[encoded data removed]",
      "text/plain": [
       "<Figure size 1440x288 with 20 Axes>"
      ]
     },
     "metadata": {},
     "output_type": "display_data"
    }
   ],
   "source": [
    "with torch.no_grad():\n",
    "    output_model = torch.exp(model(data))\n",
    "    _,output_label = torch.max(output_model, 1)\n",
    "output_label = output_label.cpu().numpy()\n",
    "fig,ax = plt.subplots(2, 10, figsize = (20,4))\n",
    "for i in range(batch_size):\n",
    "#     print(i,int(i/10))\n",
    "    a = ax[int(i/10),i%10]\n",
    "    a.imshow(data[i].cpu().squeeze(), cmap = 'gray')\n",
    "    a.set_title(labels[i].cpu().item(), loc = 'left', color = 'green')\n",
    "    a.set_title(output_label[i], loc = 'right', color = 'red')\n",
    "    a.set_xticks([])\n",
    "    a.set_yticks([])"
   ]
  },
  {
   "cell_type": "markdown",
   "metadata": {},
   "source": [
    "## End"
   ]
  },
  {
   "cell_type": "code",
   "execution_count": null,
   "metadata": {},
   "outputs": [],
   "source": []
  }
 ],
 "metadata": {
  "kernelspec": {
   "display_name": "Python 3",
   "language": "python",
   "name": "python3"
  },
  "language_info": {
   "codemirror_mode": {
    "name": "ipython",
    "version": 3
   },
   "file_extension": ".py",
   "mimetype": "text/x-python",
   "name": "python",
   "nbconvert_exporter": "python",
   "pygments_lexer": "ipython3",
   "version": "3.7.1"
  }
 },
 "nbformat": 4,
 "nbformat_minor": 2
}

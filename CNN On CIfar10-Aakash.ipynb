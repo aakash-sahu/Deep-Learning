{
 "cells": [
  {
   "cell_type": "markdown",
   "metadata": {},
   "source": [
    "# This is a CNN model on CIFAR10 dataset to classify images build using PyTorch"
   ]
  },
  {
   "cell_type": "code",
   "execution_count": 2,
   "metadata": {},
   "outputs": [],
   "source": [
    "import torch\n",
    "from torchvision import transforms\n",
    "from torchvision import datasets\n",
    "import numpy as np\n",
    "from sklearn.model_selection import train_test_split\n",
    "\n",
    "from torch.utils.data import SubsetRandomSampler, RandomSampler\n",
    "\n",
    "from torch import nn, optim\n",
    "import torch.nn.functional as F\n",
    "\n",
    "import matplotlib.pyplot as plt\n",
    "%matplotlib inline"
   ]
  },
  {
   "cell_type": "code",
   "execution_count": 3,
   "metadata": {},
   "outputs": [
    {
     "name": "stdout",
     "output_type": "stream",
     "text": [
      "cuda\n"
     ]
    }
   ],
   "source": [
    "if torch.cuda.is_available():\n",
    "    device = \"cuda\"\n",
    "print(device)"
   ]
  },
  {
   "cell_type": "markdown",
   "metadata": {},
   "source": [
    "### Define transforms and load data"
   ]
  },
  {
   "cell_type": "code",
   "execution_count": 4,
   "metadata": {},
   "outputs": [],
   "source": [
    "transform = transforms.Compose([transforms.RandomHorizontalFlip(p =0.2),\n",
    "                               transforms.RandomRotation(20),\n",
    "                               transforms.RandomVerticalFlip(p = 0.2),\n",
    "                                transforms.ToTensor(),\n",
    "                                transforms.Normalize((0.5,0.5,0.5),(0.5,0.5,0.5))\n",
    "                               ])\n",
    "train_data = datasets.CIFAR10('data', train = True, transform = transform)\n",
    "test_data = datasets.CIFAR10('data', train = False, transform = transform)"
   ]
  },
  {
   "cell_type": "code",
   "execution_count": 5,
   "metadata": {},
   "outputs": [],
   "source": [
    "classes = ('plane', 'car', 'bird', 'cat',\n",
    "           'deer', 'dog', 'frog', 'horse', 'ship', 'truck')"
   ]
  },
  {
   "cell_type": "code",
   "execution_count": 6,
   "metadata": {},
   "outputs": [
    {
     "data": {
      "text/plain": [
       "Dataset CIFAR10\n",
       "    Number of datapoints: 10000\n",
       "    Split: test\n",
       "    Root Location: data\n",
       "    Transforms (if any): Compose(\n",
       "                             RandomHorizontalFlip(p=0.2)\n",
       "                             RandomRotation(degrees=(-20, 20), resample=False, expand=False)\n",
       "                             RandomVerticalFlip(p=0.2)\n",
       "                             ToTensor()\n",
       "                             Normalize(mean=(0.5, 0.5, 0.5), std=(0.5, 0.5, 0.5))\n",
       "                         )\n",
       "    Target Transforms (if any): None"
      ]
     },
     "execution_count": 6,
     "metadata": {},
     "output_type": "execute_result"
    }
   ],
   "source": [
    "test_data"
   ]
  },
  {
   "cell_type": "code",
   "execution_count": 7,
   "metadata": {},
   "outputs": [
    {
     "data": {
      "text/plain": [
       "(50000, 50000, 50000)"
      ]
     },
     "execution_count": 7,
     "metadata": {},
     "output_type": "execute_result"
    }
   ],
   "source": [
    "batch_size = 20\n",
    "\n",
    "valid_split = 0.2\n",
    "\n",
    "len(train_data), len(train_data.train_labels), len(train_data.train_data)"
   ]
  },
  {
   "cell_type": "code",
   "execution_count": 8,
   "metadata": {},
   "outputs": [],
   "source": [
    "train_set, val_set = train_test_split(train_data,test_size = 0.2)"
   ]
  },
  {
   "cell_type": "code",
   "execution_count": 9,
   "metadata": {},
   "outputs": [
    {
     "data": {
      "text/plain": [
       "(40000, 10000)"
      ]
     },
     "execution_count": 9,
     "metadata": {},
     "output_type": "execute_result"
    }
   ],
   "source": [
    "train_sampler = RandomSampler(train_set)\n",
    "val_sampler = RandomSampler(val_set)\n",
    "len(train_set), len(val_set)"
   ]
  },
  {
   "cell_type": "code",
   "execution_count": 19,
   "metadata": {},
   "outputs": [],
   "source": [
    "train_loader = torch.utils.data.DataLoader(dataset = train_set, batch_size = batch_size,\n",
    "                                           sampler = train_sampler, num_workers = 0)\n",
    "val_loader = torch.utils.data.DataLoader(dataset = val_set, batch_size = batch_size, \n",
    "                                        sampler = val_sampler, num_workers = 0)"
   ]
  },
  {
   "cell_type": "code",
   "execution_count": 11,
   "metadata": {},
   "outputs": [],
   "source": [
    "test_loader = torch.utils.data.DataLoader(dataset = test_data, batch_size = 4,\n",
    "                                          num_workers = 0\n",
    "                                     )"
   ]
  },
  {
   "cell_type": "code",
   "execution_count": 47,
   "metadata": {},
   "outputs": [
    {
     "data": {
      "text/plain": [
       "2500"
      ]
     },
     "execution_count": 47,
     "metadata": {},
     "output_type": "execute_result"
    }
   ],
   "source": [
    "len(test_loader)"
   ]
  },
  {
   "cell_type": "code",
   "execution_count": 13,
   "metadata": {},
   "outputs": [],
   "source": [
    "def implot(x):\n",
    "#     print(type(x))\n",
    "    x = x.numpy()\n",
    "#     print(type(x))\n",
    "    x = x*0.5 +0.5\n",
    "    x = np.transpose(x, (1,2,0)) #unnormalize\n",
    "    plt.imshow(x)\n",
    "    plt.show()"
   ]
  },
  {
   "cell_type": "code",
   "execution_count": 10,
   "metadata": {},
   "outputs": [],
   "source": [
    "image, label=next(iter(train_loader))\n",
    "#for i,l in zip(image, label)\n",
    "#implot(image)\n"
   ]
  },
  {
   "cell_type": "code",
   "execution_count": 11,
   "metadata": {},
   "outputs": [
    {
     "name": "stdout",
     "output_type": "stream",
     "text": [
      "1\n"
     ]
    },
    {
     "data": {
      "text/plain": [
       "((3, 32, 32), (32, 32, 3), (32, 32, 3))"
      ]
     },
     "execution_count": 11,
     "metadata": {},
     "output_type": "execute_result"
    }
   ],
   "source": [
    "print(label[0].numpy())\n",
    "# implot(image[0])\n",
    "image[0].numpy().shape, image[0].numpy().transpose().shape, image[0].numpy().transpose(1,2,0).shape"
   ]
  },
  {
   "cell_type": "code",
   "execution_count": 13,
   "metadata": {},
   "outputs": [
    {
     "data": {
      "text/plain": [
       "<matplotlib.image.AxesImage at 0x1cbf1f70c88>"
      ]
     },
     "execution_count": 13,
     "metadata": {},
     "output_type": "execute_result"
    },
    {
     "data": {
      "image/png": "[encoded data removed]",
      "text/plain": [
       "<Figure size 72x72 with 1 Axes>"
      ]
     },
     "metadata": {
      "needs_background": "light"
     },
     "output_type": "display_data"
    }
   ],
   "source": [
    "fig = plt.figure(figsize=(1,1))\n",
    "plt.imshow((image[10]*0.5 +0.5).numpy().transpose(1,2,0))\n"
   ]
  },
  {
   "cell_type": "code",
   "execution_count": 14,
   "metadata": {},
   "outputs": [
    {
     "data": {
      "image/png": "[encoded data removed]",
      "text/plain": [
       "<Figure size 72x72 with 1 Axes>"
      ]
     },
     "metadata": {
      "needs_background": "light"
     },
     "output_type": "display_data"
    }
   ],
   "source": [
    "fig = plt.figure(figsize=(1,1))\n",
    "implot(image[10])"
   ]
  },
  {
   "cell_type": "code",
   "execution_count": 126,
   "metadata": {},
   "outputs": [
    {
     "data": {
      "application/json": {
       "cell": {
        "!": "OSMagics",
        "HTML": "Other",
        "SVG": "Other",
        "bash": "Other",
        "capture": "ExecutionMagics",
        "cmd": "Other",
        "debug": "ExecutionMagics",
        "file": "Other",
        "html": "DisplayMagics",
        "javascript": "DisplayMagics",
        "js": "DisplayMagics",
        "latex": "DisplayMagics",
        "markdown": "DisplayMagics",
        "perl": "Other",
        "prun": "ExecutionMagics",
        "pypy": "Other",
        "python": "Other",
        "python2": "Other",
        "python3": "Other",
        "ruby": "Other",
        "script": "ScriptMagics",
        "sh": "Other",
        "svg": "DisplayMagics",
        "sx": "OSMagics",
        "system": "OSMagics",
        "time": "ExecutionMagics",
        "timeit": "ExecutionMagics",
        "writefile": "OSMagics"
       },
       "line": {
        "alias": "OSMagics",
        "alias_magic": "BasicMagics",
        "autoawait": "AsyncMagics",
        "autocall": "AutoMagics",
        "automagic": "AutoMagics",
        "autosave": "KernelMagics",
        "bookmark": "OSMagics",
        "cd": "OSMagics",
        "clear": "KernelMagics",
        "cls": "KernelMagics",
        "colors": "BasicMagics",
        "config": "ConfigMagics",
        "connect_info": "KernelMagics",
        "copy": "Other",
        "ddir": "Other",
        "debug": "ExecutionMagics",
        "dhist": "OSMagics",
        "dirs": "OSMagics",
        "doctest_mode": "BasicMagics",
        "echo": "Other",
        "ed": "Other",
        "edit": "KernelMagics",
        "env": "OSMagics",
        "gui": "BasicMagics",
        "hist": "Other",
        "history": "HistoryMagics",
        "killbgscripts": "ScriptMagics",
        "ldir": "Other",
        "less": "KernelMagics",
        "load": "CodeMagics",
        "load_ext": "ExtensionMagics",
        "loadpy": "CodeMagics",
        "logoff": "LoggingMagics",
        "logon": "LoggingMagics",
        "logstart": "LoggingMagics",
        "logstate": "LoggingMagics",
        "logstop": "LoggingMagics",
        "ls": "Other",
        "lsmagic": "BasicMagics",
        "macro": "ExecutionMagics",
        "magic": "BasicMagics",
        "matplotlib": "PylabMagics",
        "mkdir": "Other",
        "more": "KernelMagics",
        "notebook": "BasicMagics",
        "page": "BasicMagics",
        "pastebin": "CodeMagics",
        "pdb": "ExecutionMagics",
        "pdef": "NamespaceMagics",
        "pdoc": "NamespaceMagics",
        "pfile": "NamespaceMagics",
        "pinfo": "NamespaceMagics",
        "pinfo2": "NamespaceMagics",
        "pip": "BasicMagics",
        "popd": "OSMagics",
        "pprint": "BasicMagics",
        "precision": "BasicMagics",
        "prun": "ExecutionMagics",
        "psearch": "NamespaceMagics",
        "psource": "NamespaceMagics",
        "pushd": "OSMagics",
        "pwd": "OSMagics",
        "pycat": "OSMagics",
        "pylab": "PylabMagics",
        "qtconsole": "KernelMagics",
        "quickref": "BasicMagics",
        "recall": "HistoryMagics",
        "rehashx": "OSMagics",
        "reload_ext": "ExtensionMagics",
        "ren": "Other",
        "rep": "Other",
        "rerun": "HistoryMagics",
        "reset": "NamespaceMagics",
        "reset_selective": "NamespaceMagics",
        "rmdir": "Other",
        "run": "ExecutionMagics",
        "save": "CodeMagics",
        "sc": "OSMagics",
        "set_env": "OSMagics",
        "store": "StoreMagics",
        "sx": "OSMagics",
        "system": "OSMagics",
        "tb": "ExecutionMagics",
        "time": "ExecutionMagics",
        "timeit": "ExecutionMagics",
        "unalias": "OSMagics",
        "unload_ext": "ExtensionMagics",
        "who": "NamespaceMagics",
        "who_ls": "NamespaceMagics",
        "whos": "NamespaceMagics",
        "xdel": "NamespaceMagics",
        "xmode": "BasicMagics"
       }
      },
      "text/plain": [
       "Available line magics:\n",
       "%alias  %alias_magic  %autoawait  %autocall  %automagic  %autosave  %bookmark  %cd  %clear  %cls  %colors  %config  %connect_info  %copy  %ddir  %debug  %dhist  %dirs  %doctest_mode  %echo  %ed  %edit  %env  %gui  %hist  %history  %killbgscripts  %ldir  %less  %load  %load_ext  %loadpy  %logoff  %logon  %logstart  %logstate  %logstop  %ls  %lsmagic  %macro  %magic  %matplotlib  %mkdir  %more  %notebook  %page  %pastebin  %pdb  %pdef  %pdoc  %pfile  %pinfo  %pinfo2  %popd  %pprint  %precision  %prun  %psearch  %psource  %pushd  %pwd  %pycat  %pylab  %qtconsole  %quickref  %recall  %rehashx  %reload_ext  %ren  %rep  %rerun  %reset  %reset_selective  %rmdir  %run  %save  %sc  %set_env  %store  %sx  %system  %tb  %time  %timeit  %unalias  %unload_ext  %who  %who_ls  %whos  %xdel  %xmode\n",
       "\n",
       "Available cell magics:\n",
       "%%!  %%HTML  %%SVG  %%bash  %%capture  %%cmd  %%debug  %%file  %%html  %%javascript  %%js  %%latex  %%markdown  %%perl  %%prun  %%pypy  %%python  %%python2  %%python3  %%ruby  %%script  %%sh  %%svg  %%sx  %%system  %%time  %%timeit  %%writefile\n",
       "\n",
       "Automagic is ON, % prefix IS NOT needed for line magics."
      ]
     },
     "execution_count": 126,
     "metadata": {},
     "output_type": "execute_result"
    }
   ],
   "source": [
    "%lsmagic"
   ]
  },
  {
   "cell_type": "markdown",
   "metadata": {},
   "source": [
    "## Define convolutional network architecture"
   ]
  },
  {
   "cell_type": "code",
   "execution_count": 14,
   "metadata": {},
   "outputs": [
    {
     "name": "stdout",
     "output_type": "stream",
     "text": [
      "Cnet(\n",
      "  (conv1): Conv2d(3, 8, kernel_size=(3, 3), stride=(1, 1), padding=(1, 1))\n",
      "  (pool1): MaxPool2d(kernel_size=2, stride=2, padding=0, dilation=1, ceil_mode=False)\n",
      "  (conv2): Conv2d(8, 16, kernel_size=(3, 3), stride=(1, 1), padding=(1, 1))\n",
      "  (pool2): MaxPool2d(kernel_size=4, stride=4, padding=0, dilation=1, ceil_mode=False)\n",
      "  (fc1): Linear(in_features=256, out_features=64, bias=True)\n",
      "  (fc2): Linear(in_features=64, out_features=24, bias=True)\n",
      "  (fc3): Linear(in_features=24, out_features=10, bias=True)\n",
      "  (dropout): Dropout(p=0.25)\n",
      ")\n"
     ]
    },
    {
     "data": {
      "text/plain": [
       "Cnet(\n",
       "  (conv1): Conv2d(3, 8, kernel_size=(3, 3), stride=(1, 1), padding=(1, 1))\n",
       "  (pool1): MaxPool2d(kernel_size=2, stride=2, padding=0, dilation=1, ceil_mode=False)\n",
       "  (conv2): Conv2d(8, 16, kernel_size=(3, 3), stride=(1, 1), padding=(1, 1))\n",
       "  (pool2): MaxPool2d(kernel_size=4, stride=4, padding=0, dilation=1, ceil_mode=False)\n",
       "  (fc1): Linear(in_features=256, out_features=64, bias=True)\n",
       "  (fc2): Linear(in_features=64, out_features=24, bias=True)\n",
       "  (fc3): Linear(in_features=24, out_features=10, bias=True)\n",
       "  (dropout): Dropout(p=0.25)\n",
       ")"
      ]
     },
     "execution_count": 14,
     "metadata": {},
     "output_type": "execute_result"
    }
   ],
   "source": [
    "class Cnet(nn.Module):\n",
    "    \n",
    "    def __init__(self):\n",
    "        super().__init__()\n",
    "        \n",
    "        self.conv1 = nn.Conv2d(in_channels = 3, out_channels= 8,kernel_size= 3, padding = 1)\n",
    "        self.pool1 = nn.MaxPool2d(kernel_size = 2, stride = 2)\n",
    "        self.conv2 = nn.Conv2d(in_channels = 8, out_channels= 16,kernel_size= 3, padding = 1)\n",
    "        self.pool2 = nn.MaxPool2d(kernel_size = 4, stride = 4)\n",
    "        \n",
    "        self.fc1 = nn.Linear(16*4*4, 64)\n",
    "        self.fc2 = nn.Linear(64, 24)\n",
    "        self.fc3 = nn.Linear(24,10)\n",
    "        \n",
    "        self.dropout = nn.Dropout(p = 0.25)\n",
    "        \n",
    "    def forward(self,x):\n",
    "        \n",
    "        x = F.relu(self.conv1(x))\n",
    "        x = self.pool1(x)\n",
    "        x = F.relu(self.conv2(x))\n",
    "        x = self.pool2(x)\n",
    "        x = x.view(-1, 16*4*4)\n",
    "        #x = self.dropout(x)\n",
    "        x = self.dropout(F.relu(self.fc1(x)))\n",
    "        x = self.dropout(F.relu(self.fc2(x)))\n",
    "        x = self.fc3(x)\n",
    "        \n",
    "        return x\n",
    "        \n",
    "model = Cnet()\n",
    "print(model)\n",
    "\n",
    "model.cuda()\n",
    "        "
   ]
  },
  {
   "cell_type": "code",
   "execution_count": 14,
   "metadata": {},
   "outputs": [
    {
     "name": "stdout",
     "output_type": "stream",
     "text": [
      "Cnet(\n",
      "  (conv1): Conv2d(3, 8, kernel_size=(3, 3), stride=(1, 1), padding=(1, 1))\n",
      "  (pool1): MaxPool2d(kernel_size=2, stride=2, padding=0, dilation=1, ceil_mode=False)\n",
      "  (conv2): Conv2d(8, 16, kernel_size=(3, 3), stride=(1, 1), padding=(1, 1))\n",
      "  (pool2): MaxPool2d(kernel_size=4, stride=4, padding=0, dilation=1, ceil_mode=False)\n",
      "  (fc1): Linear(in_features=256, out_features=64, bias=True)\n",
      "  (fc2): Linear(in_features=64, out_features=24, bias=True)\n",
      "  (fc3): Linear(in_features=24, out_features=10, bias=True)\n",
      "  (dropout): Dropout(p=0.25)\n",
      ")\n"
     ]
    },
    {
     "data": {
      "text/plain": [
       "Cnet(\n",
       "  (conv1): Conv2d(3, 8, kernel_size=(3, 3), stride=(1, 1), padding=(1, 1))\n",
       "  (pool1): MaxPool2d(kernel_size=2, stride=2, padding=0, dilation=1, ceil_mode=False)\n",
       "  (conv2): Conv2d(8, 16, kernel_size=(3, 3), stride=(1, 1), padding=(1, 1))\n",
       "  (pool2): MaxPool2d(kernel_size=4, stride=4, padding=0, dilation=1, ceil_mode=False)\n",
       "  (fc1): Linear(in_features=256, out_features=64, bias=True)\n",
       "  (fc2): Linear(in_features=64, out_features=24, bias=True)\n",
       "  (fc3): Linear(in_features=24, out_features=10, bias=True)\n",
       "  (dropout): Dropout(p=0.25)\n",
       ")"
      ]
     },
     "execution_count": 14,
     "metadata": {},
     "output_type": "execute_result"
    }
   ],
   "source": [
    "class Cnet2(nn.Module):\n",
    "    \n",
    "    def __init__(self):\n",
    "        super().__init__()\n",
    "        \n",
    "        self.conv1 = nn.Conv2d(in_channels = 3, out_channels= 16,kernel_size= 3, padding = 1)\n",
    "        \n",
    "        self.conv2 = nn.Conv2d(in_channels = 16, out_channels= 32,kernel_size= 3, padding = 1)\n",
    "        self.conv3 = nn.Conv2d(in_channels = 32, out_channels= 64,kernel_size= 3, padding = 1)\n",
    "        self.pool = nn.MaxPool2d(kernel_size = 2, stride = 2)\n",
    "        \n",
    "        self.fc1 = nn.Linear(64*4*4, 128)\n",
    "        self.fc2 = nn.Linear(128, 64)\n",
    "        self.fc3 = nn.Linear(64,10)\n",
    "        \n",
    "        self.dropout = nn.Dropout(p = 0.25)\n",
    "        \n",
    "    def forward(self,x):\n",
    "        \n",
    "        x = F.relu(self.conv1(x))\n",
    "        x = self.pool(x)\n",
    "        x = F.relu(self.conv2(x))\n",
    "        x = self.pool(x)\n",
    "        x = F.relu(self.conv3(x))\n",
    "        x = self.pool(x)\n",
    "        \n",
    "        x = x.view(-1, 64*4*4)\n",
    "        #x = self.dropout(x)\n",
    "        x = self.dropout(F.relu(self.fc1(x)))\n",
    "        x = self.dropout(F.relu(self.fc2(x)))\n",
    "        x = self.fc3(x)\n",
    "        \n",
    "        return x\n",
    "        \n",
    "model = Cnet2()\n",
    "print(model)\n",
    "\n",
    "model.cuda()\n",
    "        "
   ]
  },
  {
   "cell_type": "markdown",
   "metadata": {},
   "source": [
    "## Training the model"
   ]
  },
  {
   "cell_type": "code",
   "execution_count": 15,
   "metadata": {},
   "outputs": [],
   "source": [
    "criterion = nn.CrossEntropyLoss()\n",
    "optimizer = optim.Adam(model.parameters(), lr = 0.001)"
   ]
  },
  {
   "cell_type": "code",
   "execution_count": 42,
   "metadata": {},
   "outputs": [
    {
     "name": "stdout",
     "output_type": "stream",
     "text": [
      "Epoch 1 of 30...\t Training loss = 1.428104... Validation loss = 1.364434... Validation loss changed from inf to 1.364434\n",
      "\n",
      "Epoch 2 of 30...\t Training loss = 1.426924... Validation loss = 1.341617... Validation loss changed from 1.364434 to 1.341617\n",
      "\n",
      "Epoch 3 of 30...\t Training loss = 1.415600... Validation loss = 1.341002... Validation loss changed from 1.341617 to 1.341002\n",
      "\n",
      "Epoch 4 of 30...\t Training loss = 1.411116... Validation loss = 1.338821... Validation loss changed from 1.341002 to 1.338821\n",
      "\n",
      "Epoch 5 of 30...\t Training loss = 1.398208... Validation loss = 1.341385... Validation loss changed from 1.338821 to 1.341385\n",
      "\n",
      "Epoch 6 of 30...\t Training loss = 1.399669... Validation loss = 1.318594... Validation loss changed from 1.341385 to 1.318594\n",
      "\n",
      "Epoch 7 of 30...\t Training loss = 1.390121... Validation loss = 1.314368... Validation loss changed from 1.318594 to 1.314368\n",
      "\n",
      "Epoch 8 of 30...\t Training loss = 1.386048... Validation loss = 1.345339... Validation loss changed from 1.314368 to 1.345339\n",
      "\n",
      "Epoch 9 of 30...\t Training loss = 1.381747... Validation loss = 1.321819... Validation loss changed from 1.345339 to 1.321819\n",
      "\n",
      "Epoch 10 of 30...\t Training loss = 1.371215... Validation loss = 1.312652... Validation loss changed from 1.321819 to 1.312652\n",
      "\n",
      "Epoch 11 of 30...\t Training loss = 1.376099... Validation loss = 1.321866... Validation loss changed from 1.312652 to 1.321866\n",
      "\n",
      "Epoch 12 of 30...\t Training loss = 1.368138... Validation loss = 1.304803... Validation loss changed from 1.321866 to 1.304803\n",
      "\n",
      "Epoch 13 of 30...\t Training loss = 1.372444... Validation loss = 1.332831... Validation loss changed from 1.304803 to 1.332831\n",
      "\n",
      "Epoch 14 of 30...\t Training loss = 1.365600... Validation loss = 1.310448... Validation loss changed from 1.332831 to 1.310448\n",
      "\n",
      "Epoch 15 of 30...\t Training loss = 1.361839... Validation loss = 1.301228... Validation loss changed from 1.310448 to 1.301228\n",
      "\n",
      "Epoch 16 of 30...\t Training loss = 1.363761... Validation loss = 1.324971... Validation loss changed from 1.301228 to 1.324971\n",
      "\n",
      "Epoch 17 of 30...\t Training loss = 1.363365... Validation loss = 1.314538... Validation loss changed from 1.324971 to 1.314538\n",
      "\n",
      "Epoch 18 of 30...\t Training loss = 1.360433... Validation loss = 1.312738... Validation loss changed from 1.314538 to 1.312738\n",
      "\n",
      "Epoch 19 of 30...\t Training loss = 1.350301... Validation loss = 1.297444... Validation loss changed from 1.312738 to 1.297444\n",
      "\n",
      "Epoch 20 of 30...\t Training loss = 1.345710... Validation loss = 1.298821... Validation loss changed from 1.297444 to 1.298821\n",
      "\n",
      "Epoch 21 of 30...\t Training loss = 1.346443... Validation loss = 1.317572... Validation loss changed from 1.298821 to 1.317572\n",
      "\n",
      "Epoch 22 of 30...\t Training loss = 1.349480... Validation loss = 1.308622... Validation loss changed from 1.317572 to 1.308622\n",
      "\n",
      "Epoch 23 of 30...\t Training loss = 1.344950... Validation loss = 1.301683... Validation loss changed from 1.308622 to 1.301683\n",
      "\n",
      "Epoch 24 of 30...\t Training loss = 1.338174... Validation loss = 1.306051... Validation loss changed from 1.301683 to 1.306051\n",
      "\n",
      "Epoch 25 of 30...\t Training loss = 1.337920... Validation loss = 1.290562... Validation loss changed from 1.306051 to 1.290562\n",
      "\n",
      "Epoch 26 of 30...\t Training loss = 1.334788... Validation loss = 1.325910... Validation loss changed from 1.290562 to 1.325910\n",
      "\n",
      "Epoch 27 of 30...\t Training loss = 1.329164... Validation loss = 1.312954... Validation loss changed from 1.325910 to 1.312954\n",
      "\n",
      "Epoch 28 of 30...\t Training loss = 1.337479... Validation loss = 1.322443... Validation loss changed from 1.312954 to 1.322443\n",
      "\n",
      "Epoch 29 of 30...\t Training loss = 1.331557... Validation loss = 1.300319... Validation loss changed from 1.322443 to 1.300319\n",
      "\n",
      "Epoch 30 of 30...\t Training loss = 1.328582... Validation loss = 1.286612... Validation loss changed from 1.300319 to 1.286612\n",
      "\n",
      "Epoch 31 of 30...\t Training loss = 1.330013... Validation loss = 1.295690... Validation loss changed from 1.286612 to 1.295690\n",
      "\n",
      "Wall time: 8min 16s\n"
     ]
    }
   ],
   "source": [
    "%%time\n",
    "epochs = 30\n",
    "\n",
    "running_train_loss = []\n",
    "running_val_loss = []\n",
    "min_val_loss = np.Inf\n",
    "\n",
    "for epoch in range(1,epochs+1):\n",
    "    model.train()\n",
    "    train_loss = 0\n",
    "    for image, label in train_loader:\n",
    "        image, label = image.cuda(), label.cuda()\n",
    "        \n",
    "        \n",
    "        optimizer.zero_grad()\n",
    "        \n",
    "       # print(image)\n",
    "        \n",
    "        train_output = model(image)\n",
    "        loss_t = criterion(train_output, label)\n",
    "        loss_t.backward()\n",
    "        \n",
    "        optimizer.step()\n",
    "        \n",
    "        train_loss += loss_t.item()\n",
    "    \n",
    "    running_train_loss.append(train_loss/len(train_loader))\n",
    "    \n",
    "    with torch.no_grad():\n",
    "        loss_v = 0\n",
    "        for image, label in val_loader:\n",
    "            image, label = image.cuda(), label.cuda()\n",
    "            model.eval()\n",
    "            \n",
    "            val_output = model(image)\n",
    "            loss_v += criterion(val_output, label)\n",
    "    \n",
    "    running_val_loss.append(loss_v.item()/len(val_loader))  \n",
    "    \n",
    "    print(\"Epoch {} of {}....\".format(epoch, epochs+1),\n",
    "         \"Training loss = {:.6f}...\".format(train_loss/len(train_loader)),\n",
    "         \"Validation loss = {:.6f}...\".format(loss_v/len(val_loader)),\n",
    "         \"Validation loss changed from {:.6f} to {:.6f}\\n\".format(min_val_loss,loss_v/len(val_loader)))\n",
    "    \n",
    "    min_val_loss = loss_v/len(val_loader)"
   ]
  },
  {
   "cell_type": "code",
   "execution_count": 17,
   "metadata": {},
   "outputs": [
    {
     "ename": "NameError",
     "evalue": "name 'running_train_loss' is not defined",
     "output_type": "error",
     "traceback": [
      "\u001b[1;31m---------------------------------------------------------------------------\u001b[0m",
      "\u001b[1;31mNameError\u001b[0m                                 Traceback (most recent call last)",
      "\u001b[1;32m<ipython-input-17-8a62ffe3d7b3>\u001b[0m in \u001b[0;36m<module>\u001b[1;34m\u001b[0m\n\u001b[1;32m----> 1\u001b[1;33m \u001b[0mplt\u001b[0m\u001b[1;33m.\u001b[0m\u001b[0mplot\u001b[0m\u001b[1;33m(\u001b[0m\u001b[0mrunning_train_loss\u001b[0m\u001b[1;33m)\u001b[0m\u001b[1;33m\u001b[0m\u001b[1;33m\u001b[0m\u001b[0m\n\u001b[0m\u001b[0;32m      2\u001b[0m \u001b[0mplt\u001b[0m\u001b[1;33m.\u001b[0m\u001b[0mplot\u001b[0m\u001b[1;33m(\u001b[0m\u001b[0mrunning_val_loss\u001b[0m\u001b[1;33m)\u001b[0m\u001b[1;33m\u001b[0m\u001b[1;33m\u001b[0m\u001b[0m\n\u001b[0;32m      3\u001b[0m \u001b[0mplt\u001b[0m\u001b[1;33m.\u001b[0m\u001b[0mlegend\u001b[0m\u001b[1;33m(\u001b[0m\u001b[1;33m)\u001b[0m\u001b[1;33m\u001b[0m\u001b[1;33m\u001b[0m\u001b[0m\n",
      "\u001b[1;31mNameError\u001b[0m: name 'running_train_loss' is not defined"
     ]
    }
   ],
   "source": [
    "plt.plot(running_train_loss)\n",
    "plt.plot(running_val_loss)\n",
    "plt.legend()"
   ]
  },
  {
   "cell_type": "markdown",
   "metadata": {},
   "source": [
    "### Save model"
   ]
  },
  {
   "cell_type": "code",
   "execution_count": 38,
   "metadata": {},
   "outputs": [],
   "source": [
    "torch.save(model.state_dict(),'Cnet1.pt')"
   ]
  },
  {
   "cell_type": "code",
   "execution_count": 16,
   "metadata": {},
   "outputs": [],
   "source": [
    "model.load_state_dict(torch.load('Cnet1.pt'))"
   ]
  },
  {
   "cell_type": "markdown",
   "metadata": {},
   "source": [
    "## Checking accuracy in test set"
   ]
  },
  {
   "cell_type": "code",
   "execution_count": 34,
   "metadata": {},
   "outputs": [
    {
     "name": "stdout",
     "output_type": "stream",
     "text": [
      "Accuracy on test set = 0.5163\n",
      "Test loss = 1.3474479886651038\n"
     ]
    }
   ],
   "source": [
    "correct = 0\n",
    "total = 0\n",
    "\n",
    "test_loss = 0\n",
    "\n",
    "with torch.no_grad():\n",
    "    \n",
    "    model.eval()\n",
    "\n",
    "    i = 0\n",
    "\n",
    "    for image, label in test_loader:\n",
    "        i += 1\n",
    "        image, label = image.cuda(), label.cuda()\n",
    "\n",
    "        test_output = model(image)\n",
    "\n",
    "        loss_t = criterion(test_output, label)\n",
    "        \n",
    "        test_loss += loss_t.item()\n",
    "        \n",
    "        _,pred = torch.max(test_output.data, 1)\n",
    "        \n",
    "        total += label.size(0)\n",
    "        correct += (pred == label).sum().item()\n",
    "        \n",
    "print(\"Accuracy on test set = {}\\nTest loss = {}\".format(correct/total ,test_loss/len(test_loader)))        \n",
    "\n",
    "#         print(test_output)"
   ]
  },
  {
   "cell_type": "code",
   "execution_count": 48,
   "metadata": {},
   "outputs": [
    {
     "name": "stdout",
     "output_type": "stream",
     "text": [
      "Accuracy of plane: 60.7%\n",
      "Accuracy of car: 69.8%\n",
      "Accuracy of bird: 33.3%\n",
      "Accuracy of cat: 43.5%\n",
      "Accuracy of deer: 50.8%\n",
      "Accuracy of dog: 25.3%\n",
      "Accuracy of frog: 64.4%\n",
      "Accuracy of horse: 52.5%\n",
      "Accuracy of ship: 62.5%\n",
      "Accuracy of truck: 48.5%\n",
      "\n",
      "Total Accuracy = 51.13\n",
      "total correct 5113.0 out of 10000.0\n"
     ]
    }
   ],
   "source": [
    "class_correct = [0. for i in range(10)]\n",
    "class_total = [0. for i in range(10)]\n",
    "test_loss = 0\n",
    "\n",
    "# total = \n",
    "\n",
    "with torch.no_grad():\n",
    "    for images, labels in test_loader:\n",
    "        images, labels = images.cuda(), labels.cuda()\n",
    "        test_output = model(images)\n",
    "        test_loss += criterion(test_output, labels)\n",
    "        _,pred = torch.max(test_output,1)\n",
    "        \n",
    "        for i in range(4):\n",
    "            label = labels[i]\n",
    "            if pred[i] == label:\n",
    "                class_correct[label] += 1\n",
    "            class_total[label] += 1\n",
    "\n",
    "for i in range(10):\n",
    "    print(\"Accuracy of {}: {}%\".format(classes[i], 100*class_correct[i]/class_total[i]))\n",
    "\n",
    "total_correct = np.sum(class_correct)\n",
    "total = np.sum(class_total)\n",
    "print(\"\\nTotal Accuracy = {}\".format(100* total_correct/total))  \n",
    "\n",
    "print(\"total correct {} out of {}\".format(total_correct,total))\n",
    "            "
   ]
  },
  {
   "cell_type": "code",
   "execution_count": 30,
   "metadata": {},
   "outputs": [],
   "source": []
  },
  {
   "cell_type": "code",
   "execution_count": 43,
   "metadata": {},
   "outputs": [
    {
     "name": "stdout",
     "output_type": "stream",
     "text": [
      "Accuracy of plane : 60 %\n",
      "Accuracy of   car : 70 %\n",
      "Accuracy of  bird : 33 %\n",
      "Accuracy of   cat : 42 %\n",
      "Accuracy of  deer : 50 %\n",
      "Accuracy of   dog : 26 %\n",
      "Accuracy of  frog : 67 %\n",
      "Accuracy of horse : 52 %\n",
      "Accuracy of  ship : 59 %\n",
      "Accuracy of truck : 49 %\n"
     ]
    }
   ],
   "source": [
    "with torch.no_grad():\n",
    "    for image, label in test_loader:\n",
    "        image, label = image.cuda(), label.cuda()\n",
    "        outputs = model(image)\n",
    "        _, predicted = torch.max(outputs, 1)\n",
    "        c = (predicted == label).squeeze()\n",
    "        for i in range(4):\n",
    "            l = label[i]\n",
    "            class_correct[l] += c[i].item()\n",
    "            class_total[l] += 1\n",
    "\n",
    "\n",
    "for i in range(10):\n",
    "    print('Accuracy of %5s : %2d %%' % (\n",
    "        classes[i], 100 * class_correct[i] / class_total[i]))"
   ]
  },
  {
   "cell_type": "code",
   "execution_count": 42,
   "metadata": {},
   "outputs": [
    {
     "name": "stdout",
     "output_type": "stream",
     "text": [
      "Test Loss: 1.341166\n",
      "\n",
      "Test Accuracy of plane: 59% (599/1000)\n",
      "Test Accuracy of   car: 71% (715/1000)\n",
      "Test Accuracy of  bird: 33% (338/1000)\n",
      "Test Accuracy of   cat: 42% (422/1000)\n",
      "Test Accuracy of  deer: 50% (504/1000)\n",
      "Test Accuracy of   dog: 25% (252/1000)\n",
      "Test Accuracy of  frog: 69% (698/1000)\n",
      "Test Accuracy of horse: 53% (538/1000)\n",
      "Test Accuracy of  ship: 60% (604/1000)\n",
      "Test Accuracy of truck: 50% (508/1000)\n",
      "\n",
      "Test Accuracy (Overall): 51% (5178/10000)\n"
     ]
    }
   ],
   "source": [
    "# track test loss\n",
    "test_loss = 0.0\n",
    "class_correct = list(0. for i in range(10))\n",
    "class_total = list(0. for i in range(10))\n",
    "\n",
    "model.eval()\n",
    "# iterate over test data\n",
    "for batch_idx, (data, target) in enumerate(test_loader):\n",
    "    # move tensors to GPU if CUDA is available\n",
    "    data, target = data.cuda(), target.cuda()\n",
    "    # forward pass: compute predicted outputs by passing inputs to the model\n",
    "    output = model(data)\n",
    "    # calculate the batch loss\n",
    "    loss = criterion(output, target)\n",
    "    # update test loss \n",
    "    test_loss += loss.item()*data.size(0)\n",
    "    # convert output probabilities to predicted class\n",
    "    _, pred = torch.max(output, 1)    \n",
    "    # compare predictions to true label\n",
    "    correct_tensor = pred.eq(target.data.view_as(pred))\n",
    "#     correct = np.squeeze(correct_tensor.numpy()) if not train_on_gpu else np.squeeze(correct_tensor.cpu().numpy())\n",
    "    correct = np.squeeze(correct_tensor.cpu().numpy())\n",
    "    # calculate test accuracy for each object class\n",
    "    for i in range(4):\n",
    "        label = target.data[i]\n",
    "        class_correct[label] += correct[i].item()\n",
    "        class_total[label] += 1\n",
    "\n",
    "# average test loss\n",
    "test_loss = test_loss/len(test_loader.dataset)\n",
    "print('Test Loss: {:.6f}\\n'.format(test_loss))\n",
    "\n",
    "for i in range(10):\n",
    "    if class_total[i] > 0:\n",
    "        print('Test Accuracy of %5s: %2d%% (%2d/%2d)' % (\n",
    "            classes[i], 100 * class_correct[i] / class_total[i],\n",
    "            np.sum(class_correct[i]), np.sum(class_total[i])))\n",
    "    else:\n",
    "        print('Test Accuracy of %5s: N/A (no training examples)' % (classes[i]))\n",
    "\n",
    "print('\\nTest Accuracy (Overall): %2d%% (%2d/%2d)' % (\n",
    "    100. * np.sum(class_correct) / np.sum(class_total),\n",
    "    np.sum(class_correct), np.sum(class_total)))"
   ]
  },
  {
   "cell_type": "code",
   "execution_count": 63,
   "metadata": {},
   "outputs": [
    {
     "data": {
      "image/png": "[encoded data removed]",
      "text/plain": [
       "<Figure size 432x288 with 1 Axes>"
      ]
     },
     "metadata": {
      "needs_background": "light"
     },
     "output_type": "display_data"
    },
    {
     "name": "stdout",
     "output_type": "stream",
     "text": [
      "GroundTruth:    cat  ship  ship plane\n"
     ]
    }
   ],
   "source": [
    "import torchvision\n",
    "dataiter = iter(test_loader)\n",
    "images, labels = dataiter.next()\n",
    "\n",
    "# print images\n",
    "#plt.figure(figsize = (4,4))\n",
    "implot(torchvision.utils.make_grid(images))\n",
    "print('GroundTruth: ', ' '.join('%5s' % classes[labels[j]] for j in range(4)))"
   ]
  },
  {
   "cell_type": "code",
   "execution_count": 67,
   "metadata": {},
   "outputs": [
    {
     "data": {
      "text/plain": [
       "(tensor([3, 8, 8, 0]), 'car')"
      ]
     },
     "execution_count": 67,
     "metadata": {},
     "output_type": "execute_result"
    }
   ],
   "source": [
    "labels, classes[1]"
   ]
  },
  {
   "cell_type": "code",
   "execution_count": 20,
   "metadata": {},
   "outputs": [
    {
     "data": {
      "text/plain": [
       "2500"
      ]
     },
     "execution_count": 20,
     "metadata": {},
     "output_type": "execute_result"
    }
   ],
   "source": [
    "len(test_loader)"
   ]
  },
  {
   "cell_type": "code",
   "execution_count": 72,
   "metadata": {},
   "outputs": [],
   "source": [
    "t = model(images.cuda())"
   ]
  },
  {
   "cell_type": "code",
   "execution_count": 79,
   "metadata": {},
   "outputs": [
    {
     "data": {
      "text/plain": [
       "tensor([[ -1.0259,  -1.7916,  -1.5066,  -1.3548,  -0.1463,  -1.0275,  -3.7739,\n",
       "           1.2907,  -2.5774,   0.0498],\n",
       "        [  2.0779,   4.2399,  -4.9108,  -9.1863,  -7.9942, -10.3765,  -9.0755,\n",
       "          -9.5393,   3.7997,   2.4146],\n",
       "        [  0.5304,   0.3058,  -0.9622,  -1.8464,  -1.4826,  -2.7507,  -1.8644,\n",
       "          -2.8555,   1.2413,   0.0579],\n",
       "        [  1.4376,  -0.8118,  -0.5838,  -2.6466,  -1.7607,  -3.2404,  -3.8107,\n",
       "          -2.8049,   1.0942,  -0.4986]], device='cuda:0')"
      ]
     },
     "execution_count": 79,
     "metadata": {},
     "output_type": "execute_result"
    }
   ],
   "source": [
    "t.data"
   ]
  },
  {
   "cell_type": "code",
   "execution_count": 78,
   "metadata": {},
   "outputs": [
    {
     "data": {
      "text/plain": [
       "(tensor([ 2.0779,  4.2399, -0.5838, -1.3548, -0.1463, -1.0275, -1.8644,  1.2907,\n",
       "          3.7997,  2.4146], device='cuda:0'),\n",
       " tensor([1, 1, 3, 0, 0, 0, 2, 0, 1, 1], device='cuda:0'))"
      ]
     },
     "execution_count": 78,
     "metadata": {},
     "output_type": "execute_result"
    }
   ],
   "source": [
    "torch.max(t.data,1)"
   ]
  },
  {
   "cell_type": "code",
   "execution_count": null,
   "metadata": {},
   "outputs": [],
   "source": []
  }
 ],
 "metadata": {
  "kernelspec": {
   "display_name": "Python 3",
   "language": "python",
   "name": "python3"
  },
  "language_info": {
   "codemirror_mode": {
    "name": "ipython",
    "version": 3
   },
   "file_extension": ".py",
   "mimetype": "text/x-python",
   "name": "python",
   "nbconvert_exporter": "python",
   "pygments_lexer": "ipython3",
   "version": "3.7.1"
  }
 },
 "nbformat": 4,
 "nbformat_minor": 2
}

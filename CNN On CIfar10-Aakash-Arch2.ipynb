{
 "cells": [
  {
   "cell_type": "markdown",
   "metadata": {},
   "source": [
    "# This is a CNN model on CIFAR10 dataset to classify images build using PyTorch"
   ]
  },
  {
   "cell_type": "code",
   "execution_count": 1,
   "metadata": {},
   "outputs": [],
   "source": [
    "import torch\n",
    "from torchvision import transforms\n",
    "from torchvision import datasets\n",
    "import numpy as np\n",
    "from sklearn.model_selection import train_test_split\n",
    "\n",
    "from torch.utils.data import SubsetRandomSampler, RandomSampler\n",
    "\n",
    "from torch import nn, optim\n",
    "import torch.nn.functional as F\n",
    "\n",
    "import matplotlib.pyplot as plt\n",
    "%matplotlib inline"
   ]
  },
  {
   "cell_type": "code",
   "execution_count": 2,
   "metadata": {},
   "outputs": [
    {
     "name": "stdout",
     "output_type": "stream",
     "text": [
      "cuda\n"
     ]
    }
   ],
   "source": [
    "if torch.cuda.is_available():\n",
    "    device = \"cuda\"\n",
    "print(device)"
   ]
  },
  {
   "cell_type": "markdown",
   "metadata": {},
   "source": [
    "### Define transforms and load data"
   ]
  },
  {
   "cell_type": "code",
   "execution_count": 3,
   "metadata": {},
   "outputs": [],
   "source": [
    "transform = transforms.Compose([transforms.RandomHorizontalFlip(p =0.2),\n",
    "                               transforms.RandomRotation(20),\n",
    "                               transforms.RandomVerticalFlip(p = 0.2),\n",
    "                                transforms.ToTensor(),\n",
    "                                transforms.Normalize((0.5,0.5,0.5),(0.5,0.5,0.5))\n",
    "                               ])\n",
    "train_data = datasets.CIFAR10('data', train = True, transform = transform)\n",
    "test_data = datasets.CIFAR10('data', train = False, transform = transform)"
   ]
  },
  {
   "cell_type": "code",
   "execution_count": 7,
   "metadata": {},
   "outputs": [],
   "source": [
    "classes = ('plane', 'car', 'bird', 'cat',\n",
    "           'deer', 'dog', 'frog', 'horse', 'ship', 'truck')"
   ]
  },
  {
   "cell_type": "code",
   "execution_count": 8,
   "metadata": {},
   "outputs": [
    {
     "data": {
      "text/plain": [
       "Dataset CIFAR10\n",
       "    Number of datapoints: 10000\n",
       "    Split: test\n",
       "    Root Location: data\n",
       "    Transforms (if any): Compose(\n",
       "                             RandomHorizontalFlip(p=0.2)\n",
       "                             RandomRotation(degrees=(-20, 20), resample=False, expand=False)\n",
       "                             RandomVerticalFlip(p=0.2)\n",
       "                             ToTensor()\n",
       "                             Normalize(mean=(0.5, 0.5, 0.5), std=(0.5, 0.5, 0.5))\n",
       "                         )\n",
       "    Target Transforms (if any): None"
      ]
     },
     "execution_count": 8,
     "metadata": {},
     "output_type": "execute_result"
    }
   ],
   "source": [
    "test_data"
   ]
  },
  {
   "cell_type": "code",
   "execution_count": 9,
   "metadata": {},
   "outputs": [
    {
     "data": {
      "text/plain": [
       "(50000, 50000, 50000)"
      ]
     },
     "execution_count": 9,
     "metadata": {},
     "output_type": "execute_result"
    }
   ],
   "source": [
    "batch_size = 20\n",
    "\n",
    "valid_split = 0.2\n",
    "\n",
    "len(train_data), len(train_data.train_labels), len(train_data.train_data)"
   ]
  },
  {
   "cell_type": "code",
   "execution_count": 10,
   "metadata": {},
   "outputs": [],
   "source": [
    "%%time\n",
    "train_set, val_set = train_test_split(train_data,test_size = 0.2)"
   ]
  },
  {
   "cell_type": "code",
   "execution_count": 11,
   "metadata": {},
   "outputs": [
    {
     "data": {
      "text/plain": [
       "(40000, 10000)"
      ]
     },
     "execution_count": 11,
     "metadata": {},
     "output_type": "execute_result"
    }
   ],
   "source": [
    "train_sampler = RandomSampler(train_set)\n",
    "val_sampler = RandomSampler(val_set)\n",
    "len(train_set), len(val_set)"
   ]
  },
  {
   "cell_type": "code",
   "execution_count": 12,
   "metadata": {},
   "outputs": [],
   "source": [
    "train_loader = torch.utils.data.DataLoader(dataset = train_set, batch_size = batch_size,\n",
    "                                           sampler = train_sampler ,num_workers = 0)\n",
    "val_loader = torch.utils.data.DataLoader(dataset = val_set, batch_size = batch_size, \n",
    "                                        sampler = val_sampler ,num_workers = 0)"
   ]
  },
  {
   "cell_type": "code",
   "execution_count": 47,
   "metadata": {},
   "outputs": [
    {
     "data": {
      "text/plain": [
       "(2000, 500, 40000, 10000)"
      ]
     },
     "execution_count": 47,
     "metadata": {},
     "output_type": "execute_result"
    }
   ],
   "source": [
    "len(train_loader), len(val_loader),len(train_loader.dataset), len(val_loader.dataset)"
   ]
  },
  {
   "cell_type": "code",
   "execution_count": 13,
   "metadata": {},
   "outputs": [],
   "source": [
    "test_loader = torch.utils.data.DataLoader(dataset = test_data, batch_size = batch_size ,num_workers = 0)"
   ]
  },
  {
   "cell_type": "code",
   "execution_count": 41,
   "metadata": {},
   "outputs": [
    {
     "data": {
      "text/plain": [
       "500"
      ]
     },
     "execution_count": 41,
     "metadata": {},
     "output_type": "execute_result"
    }
   ],
   "source": [
    "len(test_loader)"
   ]
  },
  {
   "cell_type": "code",
   "execution_count": 16,
   "metadata": {},
   "outputs": [],
   "source": [
    "def implot(x):\n",
    "#     print(type(x))\n",
    "    x = x.numpy()\n",
    "#     print(type(x))\n",
    "    x = x*0.5 +0.5\n",
    "    x = np.transpose(x, (1,2,0)) #unnormalize\n",
    "    plt.imshow(x)\n",
    "    plt.show()"
   ]
  },
  {
   "cell_type": "code",
   "execution_count": 17,
   "metadata": {},
   "outputs": [],
   "source": [
    "image, label=next(iter(train_loader))\n",
    "#for i,l in zip(image, label)\n",
    "#implot(image)\n"
   ]
  },
  {
   "cell_type": "code",
   "execution_count": 18,
   "metadata": {},
   "outputs": [
    {
     "name": "stdout",
     "output_type": "stream",
     "text": [
      "1\n"
     ]
    },
    {
     "data": {
      "text/plain": [
       "((3, 32, 32), (32, 32, 3), (32, 32, 3))"
      ]
     },
     "execution_count": 18,
     "metadata": {},
     "output_type": "execute_result"
    }
   ],
   "source": [
    "print(label[0].numpy())\n",
    "# implot(image[0])\n",
    "image[0].numpy().shape, image[0].numpy().transpose().shape, image[0].numpy().transpose(1,2,0).shape"
   ]
  },
  {
   "cell_type": "code",
   "execution_count": 19,
   "metadata": {},
   "outputs": [
    {
     "data": {
      "text/plain": [
       "<matplotlib.image.AxesImage at 0x16669b8e7b8>"
      ]
     },
     "execution_count": 19,
     "metadata": {},
     "output_type": "execute_result"
    },
    {
     "data": {
      "image/png": "[encoded data removed]",
      "text/plain": [
       "<Figure size 72x72 with 1 Axes>"
      ]
     },
     "metadata": {
      "needs_background": "light"
     },
     "output_type": "display_data"
    }
   ],
   "source": [
    "fig = plt.figure(figsize=(1,1))\n",
    "plt.imshow((image[10]*0.5 +0.5).numpy().transpose(1,2,0))\n"
   ]
  },
  {
   "cell_type": "code",
   "execution_count": 20,
   "metadata": {},
   "outputs": [
    {
     "data": {
      "image/png": "[encoded data removed]",
      "text/plain": [
       "<Figure size 72x72 with 1 Axes>"
      ]
     },
     "metadata": {
      "needs_background": "light"
     },
     "output_type": "display_data"
    }
   ],
   "source": [
    "fig = plt.figure(figsize=(1,1))\n",
    "implot(image[10])"
   ]
  },
  {
   "cell_type": "code",
   "execution_count": 126,
   "metadata": {},
   "outputs": [
    {
     "data": {
      "application/json": {
       "cell": {
        "!": "OSMagics",
        "HTML": "Other",
        "SVG": "Other",
        "bash": "Other",
        "capture": "ExecutionMagics",
        "cmd": "Other",
        "debug": "ExecutionMagics",
        "file": "Other",
        "html": "DisplayMagics",
        "javascript": "DisplayMagics",
        "js": "DisplayMagics",
        "latex": "DisplayMagics",
        "markdown": "DisplayMagics",
        "perl": "Other",
        "prun": "ExecutionMagics",
        "pypy": "Other",
        "python": "Other",
        "python2": "Other",
        "python3": "Other",
        "ruby": "Other",
        "script": "ScriptMagics",
        "sh": "Other",
        "svg": "DisplayMagics",
        "sx": "OSMagics",
        "system": "OSMagics",
        "time": "ExecutionMagics",
        "timeit": "ExecutionMagics",
        "writefile": "OSMagics"
       },
       "line": {
        "alias": "OSMagics",
        "alias_magic": "BasicMagics",
        "autoawait": "AsyncMagics",
        "autocall": "AutoMagics",
        "automagic": "AutoMagics",
        "autosave": "KernelMagics",
        "bookmark": "OSMagics",
        "cd": "OSMagics",
        "clear": "KernelMagics",
        "cls": "KernelMagics",
        "colors": "BasicMagics",
        "config": "ConfigMagics",
        "connect_info": "KernelMagics",
        "copy": "Other",
        "ddir": "Other",
        "debug": "ExecutionMagics",
        "dhist": "OSMagics",
        "dirs": "OSMagics",
        "doctest_mode": "BasicMagics",
        "echo": "Other",
        "ed": "Other",
        "edit": "KernelMagics",
        "env": "OSMagics",
        "gui": "BasicMagics",
        "hist": "Other",
        "history": "HistoryMagics",
        "killbgscripts": "ScriptMagics",
        "ldir": "Other",
        "less": "KernelMagics",
        "load": "CodeMagics",
        "load_ext": "ExtensionMagics",
        "loadpy": "CodeMagics",
        "logoff": "LoggingMagics",
        "logon": "LoggingMagics",
        "logstart": "LoggingMagics",
        "logstate": "LoggingMagics",
        "logstop": "LoggingMagics",
        "ls": "Other",
        "lsmagic": "BasicMagics",
        "macro": "ExecutionMagics",
        "magic": "BasicMagics",
        "matplotlib": "PylabMagics",
        "mkdir": "Other",
        "more": "KernelMagics",
        "notebook": "BasicMagics",
        "page": "BasicMagics",
        "pastebin": "CodeMagics",
        "pdb": "ExecutionMagics",
        "pdef": "NamespaceMagics",
        "pdoc": "NamespaceMagics",
        "pfile": "NamespaceMagics",
        "pinfo": "NamespaceMagics",
        "pinfo2": "NamespaceMagics",
        "pip": "BasicMagics",
        "popd": "OSMagics",
        "pprint": "BasicMagics",
        "precision": "BasicMagics",
        "prun": "ExecutionMagics",
        "psearch": "NamespaceMagics",
        "psource": "NamespaceMagics",
        "pushd": "OSMagics",
        "pwd": "OSMagics",
        "pycat": "OSMagics",
        "pylab": "PylabMagics",
        "qtconsole": "KernelMagics",
        "quickref": "BasicMagics",
        "recall": "HistoryMagics",
        "rehashx": "OSMagics",
        "reload_ext": "ExtensionMagics",
        "ren": "Other",
        "rep": "Other",
        "rerun": "HistoryMagics",
        "reset": "NamespaceMagics",
        "reset_selective": "NamespaceMagics",
        "rmdir": "Other",
        "run": "ExecutionMagics",
        "save": "CodeMagics",
        "sc": "OSMagics",
        "set_env": "OSMagics",
        "store": "StoreMagics",
        "sx": "OSMagics",
        "system": "OSMagics",
        "tb": "ExecutionMagics",
        "time": "ExecutionMagics",
        "timeit": "ExecutionMagics",
        "unalias": "OSMagics",
        "unload_ext": "ExtensionMagics",
        "who": "NamespaceMagics",
        "who_ls": "NamespaceMagics",
        "whos": "NamespaceMagics",
        "xdel": "NamespaceMagics",
        "xmode": "BasicMagics"
       }
      },
      "text/plain": [
       "Available line magics:\n",
       "%alias  %alias_magic  %autoawait  %autocall  %automagic  %autosave  %bookmark  %cd  %clear  %cls  %colors  %config  %connect_info  %copy  %ddir  %debug  %dhist  %dirs  %doctest_mode  %echo  %ed  %edit  %env  %gui  %hist  %history  %killbgscripts  %ldir  %less  %load  %load_ext  %loadpy  %logoff  %logon  %logstart  %logstate  %logstop  %ls  %lsmagic  %macro  %magic  %matplotlib  %mkdir  %more  %notebook  %page  %pastebin  %pdb  %pdef  %pdoc  %pfile  %pinfo  %pinfo2  %popd  %pprint  %precision  %prun  %psearch  %psource  %pushd  %pwd  %pycat  %pylab  %qtconsole  %quickref  %recall  %rehashx  %reload_ext  %ren  %rep  %rerun  %reset  %reset_selective  %rmdir  %run  %save  %sc  %set_env  %store  %sx  %system  %tb  %time  %timeit  %unalias  %unload_ext  %who  %who_ls  %whos  %xdel  %xmode\n",
       "\n",
       "Available cell magics:\n",
       "%%!  %%HTML  %%SVG  %%bash  %%capture  %%cmd  %%debug  %%file  %%html  %%javascript  %%js  %%latex  %%markdown  %%perl  %%prun  %%pypy  %%python  %%python2  %%python3  %%ruby  %%script  %%sh  %%svg  %%sx  %%system  %%time  %%timeit  %%writefile\n",
       "\n",
       "Automagic is ON, % prefix IS NOT needed for line magics."
      ]
     },
     "execution_count": 126,
     "metadata": {},
     "output_type": "execute_result"
    }
   ],
   "source": [
    "%lsmagic"
   ]
  },
  {
   "cell_type": "markdown",
   "metadata": {},
   "source": [
    "## Define convolutional network architecture"
   ]
  },
  {
   "cell_type": "code",
   "execution_count": 54,
   "metadata": {},
   "outputs": [
    {
     "name": "stdout",
     "output_type": "stream",
     "text": [
      "Cnet2(\n",
      "  (conv1): Conv2d(3, 16, kernel_size=(3, 3), stride=(1, 1), padding=(1, 1))\n",
      "  (conv2): Conv2d(16, 32, kernel_size=(3, 3), stride=(1, 1), padding=(1, 1))\n",
      "  (conv3): Conv2d(32, 64, kernel_size=(3, 3), stride=(1, 1), padding=(1, 1))\n",
      "  (pool): MaxPool2d(kernel_size=2, stride=2, padding=0, dilation=1, ceil_mode=False)\n",
      "  (fc1): Linear(in_features=1024, out_features=256, bias=True)\n",
      "  (fc2): Linear(in_features=256, out_features=10, bias=True)\n",
      "  (dropout): Dropout(p=0.25)\n",
      ")\n"
     ]
    },
    {
     "data": {
      "text/plain": [
       "Cnet2(\n",
       "  (conv1): Conv2d(3, 16, kernel_size=(3, 3), stride=(1, 1), padding=(1, 1))\n",
       "  (conv2): Conv2d(16, 32, kernel_size=(3, 3), stride=(1, 1), padding=(1, 1))\n",
       "  (conv3): Conv2d(32, 64, kernel_size=(3, 3), stride=(1, 1), padding=(1, 1))\n",
       "  (pool): MaxPool2d(kernel_size=2, stride=2, padding=0, dilation=1, ceil_mode=False)\n",
       "  (fc1): Linear(in_features=1024, out_features=256, bias=True)\n",
       "  (fc2): Linear(in_features=256, out_features=10, bias=True)\n",
       "  (dropout): Dropout(p=0.25)\n",
       ")"
      ]
     },
     "execution_count": 54,
     "metadata": {},
     "output_type": "execute_result"
    }
   ],
   "source": [
    "class Cnet2(nn.Module):\n",
    "    \n",
    "    def __init__(self):\n",
    "        super().__init__()\n",
    "        \n",
    "        self.conv1 = nn.Conv2d(in_channels = 3, out_channels= 16,kernel_size= 3, padding = 1)\n",
    "        \n",
    "        self.conv2 = nn.Conv2d(in_channels = 16, out_channels= 32,kernel_size= 3, padding = 1)\n",
    "        self.conv3 = nn.Conv2d(in_channels = 32, out_channels= 64,kernel_size= 3, padding = 1)\n",
    "        self.pool = nn.MaxPool2d(kernel_size = 2, stride = 2)\n",
    "        \n",
    "        #self.fc1 = nn.Linear(64*4*4, 128)\n",
    "        self.fc1 = nn.Linear(64*4*4, 256)\n",
    "        #self.fc2 = nn.Linear(128, 64)\n",
    "        self.fc2 = nn.Linear(256,10)\n",
    "        \n",
    "        self.dropout = nn.Dropout(p = 0.25)\n",
    "        \n",
    "    def forward(self,x):\n",
    "        \n",
    "        x = F.relu(self.conv1(x))\n",
    "        x = self.pool(x)\n",
    "        x = F.relu(self.conv2(x))\n",
    "        x = self.pool(x)\n",
    "        x = F.relu(self.conv3(x))\n",
    "        x = self.pool(x)\n",
    "        \n",
    "        x = self.dropout(x)\n",
    "        \n",
    "        x = x.view(-1, 64*4*4)\n",
    "        #x = self.dropout(x)\n",
    "        x = self.dropout(F.relu(self.fc1(x)))\n",
    "        #x = self.dropout(F.relu(self.fc2(x)))\n",
    "        x = self.fc2(x)\n",
    "        \n",
    "        return x\n",
    "        \n",
    "model = Cnet2()\n",
    "print(model)\n",
    "\n",
    "model.cuda()\n",
    "        "
   ]
  },
  {
   "cell_type": "markdown",
   "metadata": {},
   "source": [
    "## Training the model"
   ]
  },
  {
   "cell_type": "code",
   "execution_count": 55,
   "metadata": {},
   "outputs": [],
   "source": [
    "criterion = nn.CrossEntropyLoss()\n",
    "optimizer = optim.Adam(model.parameters(), lr = 0.001)"
   ]
  },
  {
   "cell_type": "code",
   "execution_count": 56,
   "metadata": {},
   "outputs": [
    {
     "data": {
      "text/plain": [
       "500"
      ]
     },
     "execution_count": 56,
     "metadata": {},
     "output_type": "execute_result"
    }
   ],
   "source": [
    "len(test_loader)"
   ]
  },
  {
   "cell_type": "code",
   "execution_count": 57,
   "metadata": {},
   "outputs": [
    {
     "name": "stdout",
     "output_type": "stream",
     "text": [
      "Epoch 1 of 18.... Training loss = 1.669221... Validation loss = 1.450434... Validation loss changed from inf to 1.450434\n",
      "validiation loss decreased on epoch 1..saving model\n",
      "\n",
      "Epoch 2 of 18.... Training loss = 1.393132... Validation loss = 1.263803... Validation loss changed from 1.450434 to 1.263803\n",
      "validiation loss decreased on epoch 2..saving model\n",
      "\n",
      "Epoch 3 of 18.... Training loss = 1.272863... Validation loss = 1.273705... Validation loss changed from 1.263803 to 1.273705\n",
      "Epoch 4 of 18.... Training loss = 1.193643... Validation loss = 1.146817... Validation loss changed from 1.263803 to 1.146817\n",
      "validiation loss decreased on epoch 4..saving model\n",
      "\n",
      "Epoch 5 of 18.... Training loss = 1.126925... Validation loss = 1.123521... Validation loss changed from 1.146817 to 1.123521\n",
      "validiation loss decreased on epoch 5..saving model\n",
      "\n",
      "Epoch 6 of 18.... Training loss = 1.077959... Validation loss = 1.086251... Validation loss changed from 1.123521 to 1.086251\n",
      "validiation loss decreased on epoch 6..saving model\n",
      "\n",
      "Epoch 7 of 18.... Training loss = 1.032745... Validation loss = 1.111087... Validation loss changed from 1.086251 to 1.111087\n",
      "Epoch 8 of 18.... Training loss = 1.002507... Validation loss = 1.077610... Validation loss changed from 1.086251 to 1.077610\n",
      "validiation loss decreased on epoch 8..saving model\n",
      "\n",
      "Epoch 9 of 18.... Training loss = 0.966946... Validation loss = 1.083428... Validation loss changed from 1.077610 to 1.083428\n",
      "Epoch 10 of 18.... Training loss = 0.935526... Validation loss = 1.068229... Validation loss changed from 1.077610 to 1.068229\n",
      "validiation loss decreased on epoch 10..saving model\n",
      "\n",
      "Epoch 11 of 18.... Training loss = 0.903801... Validation loss = 1.076237... Validation loss changed from 1.068229 to 1.076237\n",
      "Epoch 12 of 18.... Training loss = 0.884335... Validation loss = 1.048673... Validation loss changed from 1.068229 to 1.048673\n",
      "validiation loss decreased on epoch 12..saving model\n",
      "\n",
      "Epoch 13 of 18.... Training loss = 0.857786... Validation loss = 1.040292... Validation loss changed from 1.048673 to 1.040292\n",
      "validiation loss decreased on epoch 13..saving model\n",
      "\n",
      "Epoch 14 of 18.... Training loss = 0.837838... Validation loss = 1.069920... Validation loss changed from 1.040292 to 1.069920\n",
      "Epoch 15 of 18.... Training loss = 0.822201... Validation loss = 1.054431... Validation loss changed from 1.040292 to 1.054431\n",
      "Epoch 16 of 18.... Training loss = 0.805385... Validation loss = 1.055268... Validation loss changed from 1.040292 to 1.055268\n",
      "Epoch 17 of 18.... Training loss = 0.790277... Validation loss = 1.065503... Validation loss changed from 1.040292 to 1.065503\n",
      "Epoch 18 of 18.... Training loss = 0.771677... Validation loss = 1.055989... Validation loss changed from 1.040292 to 1.055989\n",
      "Wall time: 5min 2s\n"
     ]
    }
   ],
   "source": [
    "%%time\n",
    "epochs = 18\n",
    "\n",
    "running_train_loss = []\n",
    "running_val_loss = []\n",
    "min_val_loss = np.Inf\n",
    "val_loss = 0\n",
    "\n",
    "for epoch in range(1,epochs+1):\n",
    "    model.train()\n",
    "    train_loss = 0\n",
    "    for image, label in train_loader:\n",
    "        image, label = image.cuda(), label.cuda()\n",
    "        \n",
    "        \n",
    "        optimizer.zero_grad()\n",
    "        \n",
    "       # print(image)\n",
    "        \n",
    "        train_output = model(image)\n",
    "        loss_t = criterion(train_output, label)\n",
    "        loss_t.backward()\n",
    "        \n",
    "        optimizer.step()\n",
    "        \n",
    "        train_loss += loss_t.item()\n",
    "    \n",
    "    running_train_loss.append(train_loss/len(train_loader))\n",
    "    \n",
    "    with torch.no_grad():\n",
    "        model.eval()\n",
    "        loss_v = 0\n",
    "        for image, label in val_loader:\n",
    "            image, label = image.cuda(), label.cuda()\n",
    "            \n",
    "            val_output = model(image)\n",
    "            loss_v += criterion(val_output, label)\n",
    "    loss_v = loss_v/len(val_loader)\n",
    "    \n",
    "    running_val_loss.append(loss_v.item())\n",
    "    \n",
    "    print(\"Epoch {} of {}....\".format(epoch, epochs),\n",
    "         \"Training loss = {:.6f}...\".format(train_loss/len(train_loader)),\n",
    "         \"Validation loss = {:.6f}...\".format(loss_v),\n",
    "         \"Validation loss changed from {:.6f} to {:.6f}\".format(min_val_loss,loss_v))\n",
    "    \n",
    "    if loss_v <= min_val_loss:\n",
    "        print(\"validiation loss decreased on epoch {}..saving model\\n\".format(epoch))\n",
    "        torch.save(model.state_dict(), 'Cnet2.pt')\n",
    "        min_val_loss = loss_v"
   ]
  },
  {
   "cell_type": "code",
   "execution_count": 58,
   "metadata": {},
   "outputs": [
    {
     "data": {
      "text/plain": [
       "[<matplotlib.lines.Line2D at 0x166b5ecfdd8>]"
      ]
     },
     "execution_count": 58,
     "metadata": {},
     "output_type": "execute_result"
    },
    {
     "data": {
      "image/png": "[encoded data removed]",
      "text/plain": [
       "<Figure size 432x288 with 1 Axes>"
      ]
     },
     "metadata": {
      "needs_background": "light"
     },
     "output_type": "display_data"
    }
   ],
   "source": [
    "plt.plot(running_train_loss)\n",
    "plt.plot(running_val_loss)"
   ]
  },
  {
   "cell_type": "markdown",
   "metadata": {},
   "source": [
    "### Load model"
   ]
  },
  {
   "cell_type": "code",
   "execution_count": 34,
   "metadata": {},
   "outputs": [],
   "source": [
    "model.load_state_dict(torch.load('Cnet2.pt'))"
   ]
  },
  {
   "cell_type": "markdown",
   "metadata": {},
   "source": [
    "## Checking accuracy in test set"
   ]
  },
  {
   "cell_type": "code",
   "execution_count": 59,
   "metadata": {},
   "outputs": [
    {
     "name": "stdout",
     "output_type": "stream",
     "text": [
      "Accuracy on test set = 0.6333\n",
      "Test loss = 1.070359837770462\n"
     ]
    }
   ],
   "source": [
    "correct = 0\n",
    "total = 0\n",
    "\n",
    "test_loss = 0\n",
    "\n",
    "with torch.no_grad():\n",
    "    \n",
    "    model.eval()\n",
    "\n",
    "    i = 0\n",
    "\n",
    "    for image, label in test_loader:\n",
    "        i += 1\n",
    "        image, label = image.cuda(), label.cuda()\n",
    "\n",
    "        test_output = model(image)\n",
    "\n",
    "        loss_t = criterion(test_output, label)\n",
    "        \n",
    "        test_loss += loss_t.item()\n",
    "        \n",
    "        _,pred = torch.max(test_output.data, 1)\n",
    "        \n",
    "        total += label.size(0)\n",
    "        correct += (pred == label).sum().item()\n",
    "        \n",
    "print(\"Accuracy on test set = {}\\nTest loss = {}\".format(correct/total ,test_loss/len(test_loader)))        \n",
    "\n",
    "#         print(test_output)"
   ]
  },
  {
   "cell_type": "code",
   "execution_count": 67,
   "metadata": {},
   "outputs": [
    {
     "name": "stdout",
     "output_type": "stream",
     "text": [
      "Accuracy of plane: 69.50%\n",
      "Accuracy of car: 79.90%\n",
      "Accuracy of bird: 49.60%\n",
      "Accuracy of cat: 43.00%\n",
      "Accuracy of deer: 55.30%\n",
      "Accuracy of dog: 54.20%\n",
      "Accuracy of frog: 71.90%\n",
      "Accuracy of horse: 66.70%\n",
      "Accuracy of ship: 75.70%\n",
      "Accuracy of truck: 64.50%\n",
      "\n",
      "Total Accuracy = 63.03%\n",
      "total correct 6303.0 out of 10000.0\n"
     ]
    }
   ],
   "source": [
    "class_correct = [0. for i in range(10)]\n",
    "class_total = [0. for i in range(10)]\n",
    "test_loss = 0\n",
    "\n",
    "# total = \n",
    "model.eval()\n",
    "\n",
    "with torch.no_grad():\n",
    "    for images, labels in test_loader:\n",
    "        images, labels = images.cuda(), labels.cuda()\n",
    "        test_output = model(images)\n",
    "        test_loss += criterion(test_output, labels)\n",
    "        _,pred = torch.max(test_output,1)\n",
    "        \n",
    "        for i in range(batch_size):\n",
    "            label = labels[i].item()\n",
    "            if pred[i] == label:\n",
    "                class_correct[label] += 1\n",
    "            class_total[label] += 1\n",
    "\n",
    "for i in range(10):\n",
    "    print(\"Accuracy of {}: {:.2f}%\".format(classes[i], 100*class_correct[i]/class_total[i]))\n",
    "\n",
    "total_correct = np.sum(class_correct)\n",
    "total = np.sum(class_total)\n",
    "print(\"\\nTotal Accuracy = {:.2f}%\".format(100* total_correct/total)) \n",
    "print(\"total correct {} out of {}\".format(total_correct,total))\n",
    "            "
   ]
  },
  {
   "cell_type": "markdown",
   "metadata": {},
   "source": [
    "Accuracy of plane: 69.30%\n",
    "Accuracy of car: 78.60%\n",
    "Accuracy of bird: 50.50%\n",
    "Accuracy of cat: 40.70%\n",
    "Accuracy of deer: 52.10%\n",
    "Accuracy of dog: 54.80%\n",
    "Accuracy of frog: 71.20%\n",
    "Accuracy of horse: 65.70%\n",
    "Accuracy of ship: 77.60%\n",
    "Accuracy of truck: 66.50%\n",
    "\n",
    "Total Accuracy = 62.70%\n",
    "total correct 6270.0 out of 10000.0"
   ]
  },
  {
   "cell_type": "markdown",
   "metadata": {},
   "source": [
    "## Reason for low accuracy--probably overfitting\n",
    "Accuracy of plane: 61.30%\n",
    "Accuracy of car: 73.20%\n",
    "Accuracy of bird: 42.30%\n",
    "Accuracy of cat: 39.40%\n",
    "Accuracy of deer: 51.90%\n",
    "Accuracy of dog: 55.80%\n",
    "Accuracy of frog: 65.90%\n",
    "Accuracy of horse: 64.60%\n",
    "Accuracy of ship: 73.90%\n",
    "Accuracy of truck: 69.60%\n",
    "\n",
    "Total Accuracy = 59.79%\n",
    "total correct 5979.0 out of 10000.0"
   ]
  },
  {
   "cell_type": "code",
   "execution_count": 51,
   "metadata": {},
   "outputs": [
    {
     "name": "stdout",
     "output_type": "stream",
     "text": [
      "500 10000\n"
     ]
    }
   ],
   "source": [
    "count = 0\n",
    "l = 0\n",
    "for i, (x,y) in enumerate(test_loader):\n",
    "#     print(i)\n",
    "    count += 1\n",
    "    l += len(x)\n",
    "print(count,l)    "
   ]
  },
  {
   "cell_type": "markdown",
   "metadata": {},
   "source": [
    "#### From pytorch tutorial: \n",
    "https://github.com/pytorch/tutorials/blob/master/beginner_source/blitz/cifar10_tutorial.py"
   ]
  },
  {
   "cell_type": "code",
   "execution_count": 62,
   "metadata": {},
   "outputs": [
    {
     "name": "stdout",
     "output_type": "stream",
     "text": [
      "Accuracy of plane : 68 %\n",
      "Accuracy of   car : 78 %\n",
      "Accuracy of  bird : 49 %\n",
      "Accuracy of   cat : 40 %\n",
      "Accuracy of  deer : 54 %\n",
      "Accuracy of   dog : 55 %\n",
      "Accuracy of  frog : 71 %\n",
      "Accuracy of horse : 66 %\n",
      "Accuracy of  ship : 77 %\n",
      "Accuracy of truck : 66 %\n"
     ]
    }
   ],
   "source": [
    "with torch.no_grad():\n",
    "    for image, label in test_loader:\n",
    "        image, label = image.cuda(), label.cuda()\n",
    "        outputs = model(image)\n",
    "        _, predicted = torch.max(outputs, 1)\n",
    "        c = (predicted == label).squeeze()\n",
    "        for i in range(20):\n",
    "            l = label[i]\n",
    "            class_correct[l] += c[i].item()\n",
    "            class_total[l] += 1\n",
    "\n",
    "\n",
    "for i in range(10):\n",
    "    print('Accuracy of %5s : %2d %%' % (\n",
    "        classes[i], 100 * class_correct[i] / class_total[i]))"
   ]
  },
  {
   "cell_type": "code",
   "execution_count": 43,
   "metadata": {},
   "outputs": [
    {
     "name": "stdout",
     "output_type": "stream",
     "text": [
      "Accuracy of the network on the 10000 test images: 59 %\n"
     ]
    }
   ],
   "source": [
    "correct = 0\n",
    "total = 0\n",
    "with torch.no_grad():\n",
    "    for data in test_loader:\n",
    "        images, labels = data\n",
    "        images, labels = images.cuda(), labels.cuda()\n",
    "        outputs = model(images)\n",
    "        _, predicted = torch.max(outputs.data, 1)\n",
    "        total += labels.size(0)\n",
    "        correct += (predicted == labels).sum().item()\n",
    "\n",
    "print('Accuracy of the network on the 10000 test images: %d %%' % (\n",
    "    100 * correct / total))"
   ]
  },
  {
   "cell_type": "markdown",
   "metadata": {},
   "source": [
    "### From udacity tutorial"
   ]
  },
  {
   "cell_type": "code",
   "execution_count": 64,
   "metadata": {},
   "outputs": [
    {
     "name": "stdout",
     "output_type": "stream",
     "text": [
      "Test Loss: 1.079841\n",
      "\n",
      "Test Accuracy of plane: 66% (662/1000)\n",
      "Test Accuracy of   car: 79% (790/1000)\n",
      "Test Accuracy of  bird: 50% (502/1000)\n",
      "Test Accuracy of   cat: 41% (416/1000)\n",
      "Test Accuracy of  deer: 54% (548/1000)\n",
      "Test Accuracy of   dog: 55% (558/1000)\n",
      "Test Accuracy of  frog: 71% (716/1000)\n",
      "Test Accuracy of horse: 65% (654/1000)\n",
      "Test Accuracy of  ship: 77% (776/1000)\n",
      "Test Accuracy of truck: 65% (655/1000)\n",
      "\n",
      "Test Accuracy (Overall): 62% (6277/10000)\n"
     ]
    }
   ],
   "source": [
    "# track test loss\n",
    "test_loss = 0.0\n",
    "class_correct = list(0. for i in range(10))\n",
    "class_total = list(0. for i in range(10))\n",
    "\n",
    "model.eval()\n",
    "# iterate over test data\n",
    "for batch_idx, (data, target) in enumerate(test_loader):\n",
    "    # move tensors to GPU if CUDA is available\n",
    "    data, target = data.cuda(), target.cuda()\n",
    "    # forward pass: compute predicted outputs by passing inputs to the model\n",
    "    output = model(data)\n",
    "    # calculate the batch loss\n",
    "    loss = criterion(output, target)\n",
    "    # update test loss \n",
    "    test_loss += loss.item()*data.size(0)\n",
    "    # convert output probabilities to predicted class\n",
    "    _, pred = torch.max(output, 1)    \n",
    "    # compare predictions to true label\n",
    "    correct_tensor = pred.eq(target.data.view_as(pred))\n",
    "#     correct = np.squeeze(correct_tensor.numpy()) if not train_on_gpu else np.squeeze(correct_tensor.cpu().numpy())\n",
    "    correct = np.squeeze(correct_tensor.cpu().numpy())\n",
    "    # calculate test accuracy for each object class\n",
    "    for i in range(batch_size):\n",
    "        label = target.data[i]\n",
    "        class_correct[label] += correct[i].item()\n",
    "        class_total[label] += 1\n",
    "\n",
    "# average test loss\n",
    "test_loss = test_loss/len(test_loader.dataset)\n",
    "print('Test Loss: {:.6f}\\n'.format(test_loss))\n",
    "\n",
    "for i in range(10):\n",
    "    if class_total[i] > 0:\n",
    "        print('Test Accuracy of %5s: %2d%% (%2d/%2d)' % (\n",
    "            classes[i], 100 * class_correct[i] / class_total[i],\n",
    "            np.sum(class_correct[i]), np.sum(class_total[i])))\n",
    "    else:\n",
    "        print('Test Accuracy of %5s: N/A (no training examples)' % (classes[i]))\n",
    "\n",
    "print('\\nTest Accuracy (Overall): %2d%% (%2d/%2d)' % (\n",
    "    100. * np.sum(class_correct) / np.sum(class_total),\n",
    "    np.sum(class_correct), np.sum(class_total)))"
   ]
  },
  {
   "cell_type": "code",
   "execution_count": 39,
   "metadata": {},
   "outputs": [
    {
     "data": {
      "text/plain": [
       "1"
      ]
     },
     "execution_count": 39,
     "metadata": {},
     "output_type": "execute_result"
    }
   ],
   "source": [
    "torch.cuda.device_count()"
   ]
  },
  {
   "cell_type": "code",
   "execution_count": 63,
   "metadata": {},
   "outputs": [
    {
     "data": {
      "image/png": "[encoded data removed]",
      "text/plain": [
       "<Figure size 432x288 with 1 Axes>"
      ]
     },
     "metadata": {
      "needs_background": "light"
     },
     "output_type": "display_data"
    },
    {
     "name": "stdout",
     "output_type": "stream",
     "text": [
      "GroundTruth:    cat  ship  ship plane\n"
     ]
    }
   ],
   "source": [
    "import torchvision\n",
    "dataiter = iter(test_loader)\n",
    "images, labels = dataiter.next()\n",
    "\n",
    "# print images\n",
    "#plt.figure(figsize = (4,4))\n",
    "implot(torchvision.utils.make_grid(images))\n",
    "print('GroundTruth: ', ' '.join('%5s' % classes[labels[j]] for j in range(4)))"
   ]
  },
  {
   "cell_type": "code",
   "execution_count": 67,
   "metadata": {},
   "outputs": [
    {
     "data": {
      "text/plain": [
       "(tensor([3, 8, 8, 0]), 'car')"
      ]
     },
     "execution_count": 67,
     "metadata": {},
     "output_type": "execute_result"
    }
   ],
   "source": [
    "labels, classes[1]"
   ]
  },
  {
   "cell_type": "code",
   "execution_count": 20,
   "metadata": {},
   "outputs": [
    {
     "data": {
      "text/plain": [
       "2500"
      ]
     },
     "execution_count": 20,
     "metadata": {},
     "output_type": "execute_result"
    }
   ],
   "source": [
    "len(test_loader)"
   ]
  },
  {
   "cell_type": "code",
   "execution_count": 72,
   "metadata": {},
   "outputs": [],
   "source": [
    "t = model(images.cuda())"
   ]
  },
  {
   "cell_type": "code",
   "execution_count": 79,
   "metadata": {},
   "outputs": [
    {
     "data": {
      "text/plain": [
       "tensor([[ -1.0259,  -1.7916,  -1.5066,  -1.3548,  -0.1463,  -1.0275,  -3.7739,\n",
       "           1.2907,  -2.5774,   0.0498],\n",
       "        [  2.0779,   4.2399,  -4.9108,  -9.1863,  -7.9942, -10.3765,  -9.0755,\n",
       "          -9.5393,   3.7997,   2.4146],\n",
       "        [  0.5304,   0.3058,  -0.9622,  -1.8464,  -1.4826,  -2.7507,  -1.8644,\n",
       "          -2.8555,   1.2413,   0.0579],\n",
       "        [  1.4376,  -0.8118,  -0.5838,  -2.6466,  -1.7607,  -3.2404,  -3.8107,\n",
       "          -2.8049,   1.0942,  -0.4986]], device='cuda:0')"
      ]
     },
     "execution_count": 79,
     "metadata": {},
     "output_type": "execute_result"
    }
   ],
   "source": [
    "t.data"
   ]
  },
  {
   "cell_type": "code",
   "execution_count": 78,
   "metadata": {},
   "outputs": [
    {
     "data": {
      "text/plain": [
       "(tensor([ 2.0779,  4.2399, -0.5838, -1.3548, -0.1463, -1.0275, -1.8644,  1.2907,\n",
       "          3.7997,  2.4146], device='cuda:0'),\n",
       " tensor([1, 1, 3, 0, 0, 0, 2, 0, 1, 1], device='cuda:0'))"
      ]
     },
     "execution_count": 78,
     "metadata": {},
     "output_type": "execute_result"
    }
   ],
   "source": [
    "torch.max(t.data,1)"
   ]
  },
  {
   "cell_type": "code",
   "execution_count": null,
   "metadata": {},
   "outputs": [],
   "source": [
    "model(images[0])"
   ]
  },
  {
   "cell_type": "code",
   "execution_count": null,
   "metadata": {},
   "outputs": [],
   "source": []
  }
 ],
 "metadata": {
  "kernelspec": {
   "display_name": "Python 3",
   "language": "python",
   "name": "python3"
  },
  "language_info": {
   "codemirror_mode": {
    "name": "ipython",
    "version": 3
   },
   "file_extension": ".py",
   "mimetype": "text/x-python",
   "name": "python",
   "nbconvert_exporter": "python",
   "pygments_lexer": "ipython3",
   "version": "3.7.1"
  }
 },
 "nbformat": 4,
 "nbformat_minor": 2
}
